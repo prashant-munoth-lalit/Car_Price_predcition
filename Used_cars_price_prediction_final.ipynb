{
 "cells": [
  {
   "cell_type": "markdown",
   "metadata": {
    "colab_type": "text",
    "id": "z2ycdTIEfWhV"
   },
   "source": [
    " * In this project I am going to predict the price of used cars using Random Forest, Linear regression, Lasso and Ridge            regression and Decision tree\n",
    " * Data is collected from Kaggle.\n",
    " * I used python for Data cleaning, Data pre-processing, seaborn and Matplotlib for Visualisation, Scikit learn for building       the machine learning models."
   ]
  },
  {
   "cell_type": "code",
   "execution_count": 1,
   "metadata": {
    "colab": {
     "base_uri": "https://localhost:8080/",
     "height": 70
    },
    "colab_type": "code",
    "id": "GUbFugFk5CQg",
    "outputId": "a0aa4371-58e9-4a82-947a-b3ea9ee70003"
   },
   "outputs": [],
   "source": [
    "import pandas as pd\n",
    "import numpy as np\n",
    "import matplotlib.pyplot as plt\n",
    "import seaborn as sns\n",
    "from scipy import stats"
   ]
  },
  {
   "cell_type": "code",
   "execution_count": 2,
   "metadata": {
    "colab": {},
    "colab_type": "code",
    "id": "080zVEiv5CQk"
   },
   "outputs": [],
   "source": [
    "data = pd.read_csv('craigslistVehicles.csv')"
   ]
  },
  {
   "cell_type": "code",
   "execution_count": 3,
   "metadata": {
    "colab": {
     "base_uri": "https://localhost:8080/",
     "height": 299
    },
    "colab_type": "code",
    "id": "g4RcqBje5CQm",
    "outputId": "7965dc03-a9c1-46b1-c8c2-4b7ddc77947f"
   },
   "outputs": [
    {
     "data": {
      "text/html": [
       "<div>\n",
       "<style scoped>\n",
       "    .dataframe tbody tr th:only-of-type {\n",
       "        vertical-align: middle;\n",
       "    }\n",
       "\n",
       "    .dataframe tbody tr th {\n",
       "        vertical-align: top;\n",
       "    }\n",
       "\n",
       "    .dataframe thead th {\n",
       "        text-align: right;\n",
       "    }\n",
       "</style>\n",
       "<table border=\"1\" class=\"dataframe\">\n",
       "  <thead>\n",
       "    <tr style=\"text-align: right;\">\n",
       "      <th></th>\n",
       "      <th>url</th>\n",
       "      <th>city</th>\n",
       "      <th>city_url</th>\n",
       "      <th>price</th>\n",
       "      <th>year</th>\n",
       "      <th>manufacturer</th>\n",
       "      <th>make</th>\n",
       "      <th>condition</th>\n",
       "      <th>cylinders</th>\n",
       "      <th>fuel</th>\n",
       "      <th>...</th>\n",
       "      <th>transmission</th>\n",
       "      <th>VIN</th>\n",
       "      <th>drive</th>\n",
       "      <th>size</th>\n",
       "      <th>type</th>\n",
       "      <th>paint_color</th>\n",
       "      <th>image_url</th>\n",
       "      <th>desc</th>\n",
       "      <th>lat</th>\n",
       "      <th>long</th>\n",
       "    </tr>\n",
       "  </thead>\n",
       "  <tbody>\n",
       "    <tr>\n",
       "      <th>0</th>\n",
       "      <td>https://abilene.craigslist.org/cto/d/aspermont...</td>\n",
       "      <td>abilene, TX</td>\n",
       "      <td>https://abilene.craigslist.org</td>\n",
       "      <td>9000</td>\n",
       "      <td>2009.0</td>\n",
       "      <td>chevrolet</td>\n",
       "      <td>suburban lt2</td>\n",
       "      <td>good</td>\n",
       "      <td>8 cylinders</td>\n",
       "      <td>gas</td>\n",
       "      <td>...</td>\n",
       "      <td>automatic</td>\n",
       "      <td>1GFNC26099R211276</td>\n",
       "      <td>rwd</td>\n",
       "      <td>full-size</td>\n",
       "      <td>SUV</td>\n",
       "      <td>white</td>\n",
       "      <td>https://images.craigslist.org/00909_5P6f1E6zHl...</td>\n",
       "      <td>2WD 1/2 ton\\nLeather Captains Chairs\\nIn good ...</td>\n",
       "      <td>33.130100</td>\n",
       "      <td>-100.234400</td>\n",
       "    </tr>\n",
       "    <tr>\n",
       "      <th>1</th>\n",
       "      <td>https://abilene.craigslist.org/ctd/d/liberty-h...</td>\n",
       "      <td>abilene, TX</td>\n",
       "      <td>https://abilene.craigslist.org</td>\n",
       "      <td>31999</td>\n",
       "      <td>2012.0</td>\n",
       "      <td>ram</td>\n",
       "      <td>2500</td>\n",
       "      <td>NaN</td>\n",
       "      <td>NaN</td>\n",
       "      <td>diesel</td>\n",
       "      <td>...</td>\n",
       "      <td>automatic</td>\n",
       "      <td>NaN</td>\n",
       "      <td>NaN</td>\n",
       "      <td>NaN</td>\n",
       "      <td>NaN</td>\n",
       "      <td>NaN</td>\n",
       "      <td>https://images.craigslist.org/00u0u_24XW8uhLYP...</td>\n",
       "      <td>www.GETADIESEL.com\\n2012 RAM 2500 SLT 4X4 MEGA...</td>\n",
       "      <td>30.648368</td>\n",
       "      <td>-97.862949</td>\n",
       "    </tr>\n",
       "    <tr>\n",
       "      <th>2</th>\n",
       "      <td>https://abilene.craigslist.org/ctd/d/liberty-h...</td>\n",
       "      <td>abilene, TX</td>\n",
       "      <td>https://abilene.craigslist.org</td>\n",
       "      <td>16990</td>\n",
       "      <td>2003.0</td>\n",
       "      <td>ram</td>\n",
       "      <td>3500</td>\n",
       "      <td>NaN</td>\n",
       "      <td>NaN</td>\n",
       "      <td>diesel</td>\n",
       "      <td>...</td>\n",
       "      <td>manual</td>\n",
       "      <td>NaN</td>\n",
       "      <td>NaN</td>\n",
       "      <td>NaN</td>\n",
       "      <td>NaN</td>\n",
       "      <td>NaN</td>\n",
       "      <td>https://images.craigslist.org/00l0l_H1UKTJ4sTI...</td>\n",
       "      <td>www.GETADIESEL.com\\n2003 DODGE RAM 3500 LARAMI...</td>\n",
       "      <td>30.648516</td>\n",
       "      <td>-97.862434</td>\n",
       "    </tr>\n",
       "    <tr>\n",
       "      <th>3</th>\n",
       "      <td>https://abilene.craigslist.org/cto/d/merkel-20...</td>\n",
       "      <td>abilene, TX</td>\n",
       "      <td>https://abilene.craigslist.org</td>\n",
       "      <td>6000</td>\n",
       "      <td>2002.0</td>\n",
       "      <td>gmc</td>\n",
       "      <td>sierra 1500</td>\n",
       "      <td>good</td>\n",
       "      <td>8 cylinders</td>\n",
       "      <td>gas</td>\n",
       "      <td>...</td>\n",
       "      <td>automatic</td>\n",
       "      <td>NaN</td>\n",
       "      <td>4wd</td>\n",
       "      <td>NaN</td>\n",
       "      <td>pickup</td>\n",
       "      <td>white</td>\n",
       "      <td>https://images.craigslist.org/00M0M_2wKzc7dKLU...</td>\n",
       "      <td>2002 GMC Sierra Extended Cab Truck For Sale! R...</td>\n",
       "      <td>32.444400</td>\n",
       "      <td>-99.992400</td>\n",
       "    </tr>\n",
       "    <tr>\n",
       "      <th>4</th>\n",
       "      <td>https://abilene.craigslist.org/cto/d/breckenri...</td>\n",
       "      <td>abilene, TX</td>\n",
       "      <td>https://abilene.craigslist.org</td>\n",
       "      <td>37000</td>\n",
       "      <td>2012.0</td>\n",
       "      <td>chevrolet</td>\n",
       "      <td>3500</td>\n",
       "      <td>excellent</td>\n",
       "      <td>8 cylinders</td>\n",
       "      <td>diesel</td>\n",
       "      <td>...</td>\n",
       "      <td>automatic</td>\n",
       "      <td>NaN</td>\n",
       "      <td>4wd</td>\n",
       "      <td>full-size</td>\n",
       "      <td>pickup</td>\n",
       "      <td>silver</td>\n",
       "      <td>https://images.craigslist.org/00r0r_eW1YWlKfCG...</td>\n",
       "      <td>2012 Chevrolet 3500 178k miles, runs and drive...</td>\n",
       "      <td>32.781689</td>\n",
       "      <td>-98.942248</td>\n",
       "    </tr>\n",
       "  </tbody>\n",
       "</table>\n",
       "<p>5 rows × 22 columns</p>\n",
       "</div>"
      ],
      "text/plain": [
       "                                                 url         city  \\\n",
       "0  https://abilene.craigslist.org/cto/d/aspermont...  abilene, TX   \n",
       "1  https://abilene.craigslist.org/ctd/d/liberty-h...  abilene, TX   \n",
       "2  https://abilene.craigslist.org/ctd/d/liberty-h...  abilene, TX   \n",
       "3  https://abilene.craigslist.org/cto/d/merkel-20...  abilene, TX   \n",
       "4  https://abilene.craigslist.org/cto/d/breckenri...  abilene, TX   \n",
       "\n",
       "                         city_url  price    year manufacturer          make  \\\n",
       "0  https://abilene.craigslist.org   9000  2009.0    chevrolet  suburban lt2   \n",
       "1  https://abilene.craigslist.org  31999  2012.0          ram          2500   \n",
       "2  https://abilene.craigslist.org  16990  2003.0          ram          3500   \n",
       "3  https://abilene.craigslist.org   6000  2002.0          gmc   sierra 1500   \n",
       "4  https://abilene.craigslist.org  37000  2012.0    chevrolet          3500   \n",
       "\n",
       "   condition    cylinders    fuel  ...  transmission                VIN drive  \\\n",
       "0       good  8 cylinders     gas  ...     automatic  1GFNC26099R211276   rwd   \n",
       "1        NaN          NaN  diesel  ...     automatic                NaN   NaN   \n",
       "2        NaN          NaN  diesel  ...        manual                NaN   NaN   \n",
       "3       good  8 cylinders     gas  ...     automatic                NaN   4wd   \n",
       "4  excellent  8 cylinders  diesel  ...     automatic                NaN   4wd   \n",
       "\n",
       "        size    type paint_color  \\\n",
       "0  full-size     SUV       white   \n",
       "1        NaN     NaN         NaN   \n",
       "2        NaN     NaN         NaN   \n",
       "3        NaN  pickup       white   \n",
       "4  full-size  pickup      silver   \n",
       "\n",
       "                                           image_url  \\\n",
       "0  https://images.craigslist.org/00909_5P6f1E6zHl...   \n",
       "1  https://images.craigslist.org/00u0u_24XW8uhLYP...   \n",
       "2  https://images.craigslist.org/00l0l_H1UKTJ4sTI...   \n",
       "3  https://images.craigslist.org/00M0M_2wKzc7dKLU...   \n",
       "4  https://images.craigslist.org/00r0r_eW1YWlKfCG...   \n",
       "\n",
       "                                                desc        lat        long  \n",
       "0  2WD 1/2 ton\\nLeather Captains Chairs\\nIn good ...  33.130100 -100.234400  \n",
       "1  www.GETADIESEL.com\\n2012 RAM 2500 SLT 4X4 MEGA...  30.648368  -97.862949  \n",
       "2  www.GETADIESEL.com\\n2003 DODGE RAM 3500 LARAMI...  30.648516  -97.862434  \n",
       "3  2002 GMC Sierra Extended Cab Truck For Sale! R...  32.444400  -99.992400  \n",
       "4  2012 Chevrolet 3500 178k miles, runs and drive...  32.781689  -98.942248  \n",
       "\n",
       "[5 rows x 22 columns]"
      ]
     },
     "execution_count": 3,
     "metadata": {},
     "output_type": "execute_result"
    }
   ],
   "source": [
    "data.head()"
   ]
  },
  {
   "cell_type": "code",
   "execution_count": 4,
   "metadata": {},
   "outputs": [
    {
     "data": {
      "text/plain": [
       "(550313, 22)"
      ]
     },
     "execution_count": 4,
     "metadata": {},
     "output_type": "execute_result"
    }
   ],
   "source": [
    "data.shape"
   ]
  },
  {
   "cell_type": "code",
   "execution_count": 5,
   "metadata": {
    "colab": {},
    "colab_type": "code",
    "id": "ddDi8TsX5CQs"
   },
   "outputs": [],
   "source": [
    "# copy\n",
    "new_data = data.copy()"
   ]
  },
  {
   "cell_type": "code",
   "execution_count": 6,
   "metadata": {
    "colab": {
     "base_uri": "https://localhost:8080/",
     "height": 34
    },
    "colab_type": "code",
    "id": "kyBLm6xN5CQt",
    "outputId": "861272c1-7bb1-4e88-9830-9d20ac980ec0",
    "scrolled": true
   },
   "outputs": [
    {
     "data": {
      "text/plain": [
       "(550313, 22)"
      ]
     },
     "execution_count": 6,
     "metadata": {},
     "output_type": "execute_result"
    }
   ],
   "source": [
    "new_data.shape"
   ]
  },
  {
   "cell_type": "markdown",
   "metadata": {
    "colab_type": "text",
    "id": "QWEd-pkYZ8VE"
   },
   "source": [
    "## **Data Cleaning**"
   ]
  },
  {
   "cell_type": "code",
   "execution_count": 7,
   "metadata": {
    "colab": {},
    "colab_type": "code",
    "id": "nVw-MsmsfWhk"
   },
   "outputs": [],
   "source": [
    "#re-naming the columns\n",
    "new_data.rename({'make': 'model', 'odometer': 'mileage'}, axis= 1,inplace= True)"
   ]
  },
  {
   "cell_type": "code",
   "execution_count": 8,
   "metadata": {
    "colab": {
     "base_uri": "https://localhost:8080/",
     "height": 34
    },
    "colab_type": "code",
    "id": "Hd2-s4At5CQv",
    "outputId": "a8f62f4f-a660-4505-ef68-e4729f150f23"
   },
   "outputs": [
    {
     "data": {
      "text/plain": [
       "(550313, 15)"
      ]
     },
     "execution_count": 8,
     "metadata": {},
     "output_type": "execute_result"
    }
   ],
   "source": [
    "# Lets drop the columns that are not useful for the car price prediction.\n",
    "drop_columns = ['city_url', 'url','lat','long','image_url', 'VIN', 'city']\n",
    "new_data = new_data.drop(drop_columns, axis =1)\n",
    "new_data.shape"
   ]
  },
  {
   "cell_type": "code",
   "execution_count": 9,
   "metadata": {
    "colab": {
     "base_uri": "https://localhost:8080/",
     "height": 34
    },
    "colab_type": "code",
    "id": "grG8d5w65CQ8",
    "outputId": "fb69a943-5a4b-4273-fc0b-fd0bd863b1f5"
   },
   "outputs": [
    {
     "data": {
      "text/plain": [
       "(550177, 15)"
      ]
     },
     "execution_count": 9,
     "metadata": {},
     "output_type": "execute_result"
    }
   ],
   "source": [
    "#lets drop the columns where price of the car is more than 2.5 million dollars because high end used cars like ferrari, porsche costs less than that\n",
    "new_data = new_data.drop(new_data[new_data.price > 250000].index)\n",
    "new_data.shape"
   ]
  },
  {
   "cell_type": "code",
   "execution_count": 10,
   "metadata": {
    "colab": {
     "base_uri": "https://localhost:8080/",
     "height": 34
    },
    "colab_type": "code",
    "id": "evh2oIzj5CRA",
    "outputId": "0492c081-fc9b-4d28-e772-557a233d2074"
   },
   "outputs": [
    {
     "data": {
      "text/plain": [
       "(527135, 15)"
      ]
     },
     "execution_count": 10,
     "metadata": {},
     "output_type": "execute_result"
    }
   ],
   "source": [
    "#Lets drop the columns where year is less than 1990 and greater than 2019\n",
    "new_data = new_data[(new_data['year'] > 1990) & (new_data['year'] < 2020)]\n",
    "new_data.index = range(len(new_data))\n",
    "new_data.shape"
   ]
  },
  {
   "cell_type": "code",
   "execution_count": 11,
   "metadata": {
    "colab": {},
    "colab_type": "code",
    "id": "PqQhltLO_ieh"
   },
   "outputs": [],
   "source": [
    "# finding the length of description of each car\n",
    "new_data.dropna(subset = ['desc'],inplace = True) # dropping the null values in 'desc' column\n",
    "new_data['word_len'] = new_data.desc.apply(lambda x: len(str(x.lower().split())))\n",
    "new_data.index = range(len(new_data))\n",
    "del new_data['desc']"
   ]
  },
  {
   "cell_type": "code",
   "execution_count": 12,
   "metadata": {
    "colab": {},
    "colab_type": "code",
    "id": "2YLwxVOB-YEd"
   },
   "outputs": [],
   "source": [
    "#finding the age of car\n",
    "from datetime import datetime\n",
    "\n",
    "current_year = datetime.now().year\n",
    "new_data['Age'] = current_year - new_data['year']\n",
    "del new_data['year']"
   ]
  },
  {
   "cell_type": "code",
   "execution_count": 13,
   "metadata": {
    "colab": {},
    "colab_type": "code",
    "id": "0y-rKbqP-t3T"
   },
   "outputs": [],
   "source": [
    "# removing the 'cylinders' in the columns and converting into float.\n",
    "new_data.cylinders = new_data.cylinders.apply(lambda x: x if str(x).lower()[-1] == 'o' or str(x).lower()[-1] == 'n' else str(x).lower().replace('cylinders', ''))\n",
    "new_data.cylinders = pd.to_numeric(new_data.cylinders, errors = 'coerce')\n",
    "new_data.cylinders.fillna(new_data.cylinders.median(), inplace = True)"
   ]
  },
  {
   "cell_type": "code",
   "execution_count": 14,
   "metadata": {
    "colab": {
     "base_uri": "https://localhost:8080/",
     "height": 34
    },
    "colab_type": "code",
    "id": "fHhEqjyL-YbX",
    "outputId": "abadfd7c-fd8d-451f-f55f-51989b4cc30e"
   },
   "outputs": [
    {
     "data": {
      "text/plain": [
       "(324833, 15)"
      ]
     },
     "execution_count": 14,
     "metadata": {},
     "output_type": "execute_result"
    }
   ],
   "source": [
    "# Lets drop the rows where has atleast 3 NaN values.\n",
    "new_data.dropna(thresh = 13, axis = 0, inplace = True)\n",
    "new_data.shape"
   ]
  },
  {
   "cell_type": "code",
   "execution_count": 15,
   "metadata": {
    "colab": {
     "base_uri": "https://localhost:8080/",
     "height": 34
    },
    "colab_type": "code",
    "id": "J1Xb_8yrJH3y",
    "outputId": "e4d4ffc8-91eb-4f05-849c-b5091443471f"
   },
   "outputs": [
    {
     "data": {
      "text/plain": [
       "(251722, 15)"
      ]
     },
     "execution_count": 15,
     "metadata": {},
     "output_type": "execute_result"
    }
   ],
   "source": [
    "#dropping the duplicates in the data\n",
    "new_data.drop_duplicates(keep = 'first', inplace = True)\n",
    "new_data.index = range(len(new_data))\n",
    "new_data.shape"
   ]
  },
  {
   "cell_type": "code",
   "execution_count": 16,
   "metadata": {
    "colab": {},
    "colab_type": "code",
    "id": "pCDr2Wn65CRM"
   },
   "outputs": [],
   "source": [
    "# fixing the spelling errors\n",
    "new_data.manufacturer = new_data.manufacturer.apply(lambda x: x.replace('porche', 'porsche') if x == 'porche' else x)"
   ]
  },
  {
   "cell_type": "code",
   "execution_count": 17,
   "metadata": {
    "colab": {},
    "colab_type": "code",
    "id": "NoATRIoSXMgb"
   },
   "outputs": [],
   "source": [
    "# creating new dataframe to find the size of each car in order to fill the null values in the size feature of same car\n",
    "new = new_data.sort_values(by= ['size','manufacturer','type'])\n",
    "new.drop_duplicates(subset = ['model','type'], keep = 'first', inplace = True)\n",
    "new.index = range(len(new))"
   ]
  },
  {
   "cell_type": "code",
   "execution_count": 18,
   "metadata": {
    "colab": {},
    "colab_type": "code",
    "id": "HKnaVzcj59Fb"
   },
   "outputs": [],
   "source": [
    "new.dropna(subset = ['size','model'], inplace= True)\n",
    "new.index = range(len(new))"
   ]
  },
  {
   "cell_type": "code",
   "execution_count": 19,
   "metadata": {
    "colab": {
     "base_uri": "https://localhost:8080/",
     "height": 101
    },
    "colab_type": "code",
    "id": "6NTV-GA0XdQh",
    "outputId": "7db4aef9-66f7-4ad9-b03b-eb8ffcf6d1f3"
   },
   "outputs": [
    {
     "name": "stderr",
     "output_type": "stream",
     "text": [
      "C:\\Users\\srt90\\Anaconda3\\lib\\site-packages\\ipykernel_launcher.py:5: SettingWithCopyWarning: \n",
      "A value is trying to be set on a copy of a slice from a DataFrame\n",
      "\n",
      "See the caveats in the documentation: https://pandas.pydata.org/pandas-docs/stable/user_guide/indexing.html#returning-a-view-versus-a-copy\n",
      "  \"\"\"\n"
     ]
    }
   ],
   "source": [
    "# dictionary that contain size of each car\n",
    "size = dict(zip(new['model'], new['size']))\n",
    "for i in range(len(new_data)):\n",
    "    if str(new_data['size'][i]).lower()[0] == 'n' and (new_data['model'][i] in size.keys()):\n",
    "        new_data['size'][i] = size[new_data['model'][i]]"
   ]
  },
  {
   "cell_type": "code",
   "execution_count": 20,
   "metadata": {
    "colab": {},
    "colab_type": "code",
    "id": "mMYEUw_wpg9c"
   },
   "outputs": [],
   "source": [
    "# Adding the manufacturers name to list from the dataset and adding few more manufacturer after looking the make column in dataset\n",
    "manuf = []\n",
    "for i in new_data.manufacturer.value_counts().index:\n",
    "    manuf.append(i)\n",
    "manuf.append('Tesla')\n",
    "manuf.append('Rolls-Royce')\n",
    "manuf.append('genesis')"
   ]
  },
  {
   "cell_type": "code",
   "execution_count": 21,
   "metadata": {
    "colab": {
     "base_uri": "https://localhost:8080/",
     "height": 185
    },
    "colab_type": "code",
    "id": "IeReqyHlphUM",
    "outputId": "14fe176e-fe66-4b5b-c4a3-bfa73acba196"
   },
   "outputs": [
    {
     "name": "stderr",
     "output_type": "stream",
     "text": [
      "C:\\Users\\srt90\\Anaconda3\\lib\\site-packages\\ipykernel_launcher.py:10: SettingWithCopyWarning: \n",
      "A value is trying to be set on a copy of a slice from a DataFrame\n",
      "\n",
      "See the caveats in the documentation: https://pandas.pydata.org/pandas-docs/stable/user_guide/indexing.html#returning-a-view-versus-a-copy\n",
      "  # Remove the CWD from sys.path while we load stuff.\n",
      "C:\\Users\\srt90\\Anaconda3\\lib\\site-packages\\ipykernel_launcher.py:12: SettingWithCopyWarning: \n",
      "A value is trying to be set on a copy of a slice from a DataFrame\n",
      "\n",
      "See the caveats in the documentation: https://pandas.pydata.org/pandas-docs/stable/user_guide/indexing.html#returning-a-view-versus-a-copy\n",
      "  if sys.path[0] == '':\n"
     ]
    }
   ],
   "source": [
    "# Replace the nan values in the manufacturer column based on the model column \n",
    "# from make column we can identify manufacturer of the car as it sometimes contains the manufacturer name in it\n",
    "d = new_data['manufacturer']\n",
    "m = new_data['model']\n",
    "for i in range(len(new_data)):\n",
    "    if str(d[i]).lower()[0] == 'n':\n",
    "        for x in str(m[i]).lower().split():\n",
    "            for mm in manuf:\n",
    "                if (len(x) > 4) & (x[:4] == mm.lower()[:4]):\n",
    "                    new_data['manufacturer'][i] = mm\n",
    "                elif (x[:3] == mm.lower()[:3]) & (x[:-1] == mm.lower()[:-1]):\n",
    "                    new_data['manufacturer'][i] = mm"
   ]
  },
  {
   "cell_type": "code",
   "execution_count": 46,
   "metadata": {
    "colab": {},
    "colab_type": "code",
    "id": "a2MTyyoyZmyI"
   },
   "outputs": [],
   "source": [
    "# # reduce the paint color feature to common and not common colors\n",
    "# common_colors = list(['white','grey','black','silver','blue','red'])\n",
    "# new_data['paint_color'] = new_data['paint_color'].apply(lambda x: 'Common' if x in common_colors else 'Not_common')"
   ]
  },
  {
   "cell_type": "code",
   "execution_count": 22,
   "metadata": {
    "colab": {
     "base_uri": "https://localhost:8080/",
     "height": 34
    },
    "colab_type": "code",
    "id": "kTGdwZ2F_-MI",
    "outputId": "47c89a27-7e96-48ca-e7d8-92476d6024b7"
   },
   "outputs": [
    {
     "data": {
      "text/plain": [
       "(124536, 15)"
      ]
     },
     "execution_count": 22,
     "metadata": {},
     "output_type": "execute_result"
    }
   ],
   "source": [
    "#dropping the null values\n",
    "new_data.dropna(subset = ['transmission','type','manufacturer','model','fuel','mileage','title_status','paint_color','drive','size','condition'],inplace = True)\n",
    "new_data.index = range(len(new_data))\n",
    "new_data.shape"
   ]
  },
  {
   "cell_type": "code",
   "execution_count": 23,
   "metadata": {
    "colab": {},
    "colab_type": "code",
    "id": "-d4sCuaq4zAD"
   },
   "outputs": [],
   "source": [
    "# Function to remove the outliers in the data\n",
    "def outlier_removal(x):\n",
    "    for i in x:\n",
    "        z_score_od = np.abs(stats.zscore(new_data[i]))\n",
    "        outliers = np.where(z_score_od > 3)\n",
    "        new_data.drop(new_data.index[[i for i in outliers[0]]],inplace= True)\n",
    "        new_data.index = range(len(new_data))  \n",
    "        \n",
    "outlier_removal(new_data._get_numeric_data().columns)"
   ]
  },
  {
   "cell_type": "code",
   "execution_count": 24,
   "metadata": {
    "colab": {
     "base_uri": "https://localhost:8080/",
     "height": 34
    },
    "colab_type": "code",
    "id": "xiszW42h9TIT",
    "outputId": "a4558aab-b73d-4495-fb05-66c62f567e6f"
   },
   "outputs": [
    {
     "data": {
      "text/plain": [
       "(114180, 15)"
      ]
     },
     "execution_count": 24,
     "metadata": {},
     "output_type": "execute_result"
    }
   ],
   "source": [
    "# price of car cant be zero so we are eliminating the price less than 50 dollars. Some people mention very less price and \n",
    "# they will reveal the price directly to customer while buying and bargain later.\n",
    "new_data = new_data[new_data['price'] > 50]\n",
    "new_data.index = range(len(new_data))\n",
    "new_data.shape"
   ]
  },
  {
   "cell_type": "code",
   "execution_count": 25,
   "metadata": {
    "colab": {},
    "colab_type": "code",
    "id": "YQ7hUxZufWiF"
   },
   "outputs": [],
   "source": [
    "#shifting the 'age' to new place\n",
    "new_data.insert(1, 'age', new_data['Age'])\n",
    "del new_data['Age']"
   ]
  },
  {
   "cell_type": "code",
   "execution_count": 26,
   "metadata": {
    "colab": {},
    "colab_type": "code",
    "id": "5QYxXx1D_V36"
   },
   "outputs": [],
   "source": [
    "# # creating the dictionary for integer labelling\n",
    "# cond_dict = {'new':10, 'like new':9, 'excellent':8, 'good':7, 'fair':5, 'salvage':3}\n",
    "# title_dict = {'clean': 6, 'lien': 4, 'rebuilt':3, 'salvage': 2, 'parts only': 1, 'missing': 0}\n",
    "# columns = list(['condition', 'title_status'])\n",
    "# dictionary = list([cond_dict, title_dict])\n",
    "\n",
    "# #Function that does the integer labelling.\n",
    "# def labelling(columns, dictionary):\n",
    "#     for i in range(len(columns)):\n",
    "#         new_data[columns[i]] = new_data[columns[i]].map(dictionary[i])\n",
    "\n",
    "# labelling(columns, dictionary)"
   ]
  },
  {
   "cell_type": "code",
   "execution_count": 27,
   "metadata": {},
   "outputs": [
    {
     "data": {
      "text/plain": [
       "Index(['price', 'age', 'manufacturer', 'model', 'condition', 'cylinders',\n",
       "       'fuel', 'mileage', 'title_status', 'transmission', 'drive', 'size',\n",
       "       'type', 'paint_color', 'word_len'],\n",
       "      dtype='object')"
      ]
     },
     "execution_count": 27,
     "metadata": {},
     "output_type": "execute_result"
    }
   ],
   "source": [
    "new_data.columns"
   ]
  },
  {
   "cell_type": "code",
   "execution_count": 31,
   "metadata": {},
   "outputs": [
    {
     "data": {
      "text/plain": [
       "excellent    53316\n",
       "good         43039\n",
       "new          12042\n",
       "fair          5378\n",
       "salvage        405\n",
       "Name: condition, dtype: int64"
      ]
     },
     "execution_count": 31,
     "metadata": {},
     "output_type": "execute_result"
    }
   ],
   "source": [
    "new_data.condition.value_counts()"
   ]
  },
  {
   "cell_type": "code",
   "execution_count": 29,
   "metadata": {},
   "outputs": [
    {
     "data": {
      "text/plain": [
       "clean         106684\n",
       "rebuilt         3703\n",
       "lien            1934\n",
       "salvage         1752\n",
       "missing           75\n",
       "parts only        32\n",
       "Name: title_status, dtype: int64"
      ]
     },
     "execution_count": 29,
     "metadata": {},
     "output_type": "execute_result"
    }
   ],
   "source": [
    "new_data.title_status.value_counts()"
   ]
  },
  {
   "cell_type": "code",
   "execution_count": 30,
   "metadata": {
    "colab": {},
    "colab_type": "code",
    "id": "IpuQulTNfWiV"
   },
   "outputs": [],
   "source": [
    "# changing the 'like new' to 'new'\n",
    "new_data.condition = new_data.condition.apply(lambda x: x.replace('like new', 'new') if x == 'like new' else x)"
   ]
  },
  {
   "cell_type": "code",
   "execution_count": 32,
   "metadata": {
    "colab": {},
    "colab_type": "code",
    "id": "PuUbbDEgQX1q"
   },
   "outputs": [],
   "source": [
    "# Finding the models of car which has fewer data\n",
    "other_models = new_data.model.value_counts().index[new_data.model.value_counts().values < 5]"
   ]
  },
  {
   "cell_type": "code",
   "execution_count": 33,
   "metadata": {
    "colab": {
     "base_uri": "https://localhost:8080/",
     "height": 101
    },
    "colab_type": "code",
    "id": "b1l_UsOFQkW9",
    "outputId": "384cf67f-12e8-4a72-ff6c-e8c480639688"
   },
   "outputs": [
    {
     "name": "stderr",
     "output_type": "stream",
     "text": [
      "C:\\Users\\srt90\\Anaconda3\\lib\\site-packages\\ipykernel_launcher.py:5: SettingWithCopyWarning: \n",
      "A value is trying to be set on a copy of a slice from a DataFrame\n",
      "\n",
      "See the caveats in the documentation: https://pandas.pydata.org/pandas-docs/stable/user_guide/indexing.html#returning-a-view-versus-a-copy\n",
      "  \"\"\"\n"
     ]
    }
   ],
   "source": [
    "# Function replaces the less frequent models of car to other_models category\n",
    "def model_edit(model_list, data):\n",
    "    for i in range(len(data)):\n",
    "        if data[i] in model_list:\n",
    "            data[i] = 'other_models'\n",
    "\n",
    "model_edit(other_models, new_data['model'])"
   ]
  },
  {
   "cell_type": "code",
   "execution_count": 34,
   "metadata": {
    "colab": {},
    "colab_type": "code",
    "id": "SJmKWnzjfWia"
   },
   "outputs": [],
   "source": [
    "# changing the datatype from float to int\n",
    "new_data['age'] = new_data['age'].astype(int)\n",
    "new_data['mileage'] = new_data['mileage'].astype(int)\n",
    "new_data['cylinders'] = new_data['cylinders'].astype(int)"
   ]
  },
  {
   "cell_type": "code",
   "execution_count": 35,
   "metadata": {
    "colab": {
     "base_uri": "https://localhost:8080/",
     "height": 299
    },
    "colab_type": "code",
    "id": "ulvu8UzffWic",
    "outputId": "1a9e5576-b04c-4900-b7cb-4870b8d32c7a"
   },
   "outputs": [
    {
     "data": {
      "text/html": [
       "<div>\n",
       "<style scoped>\n",
       "    .dataframe tbody tr th:only-of-type {\n",
       "        vertical-align: middle;\n",
       "    }\n",
       "\n",
       "    .dataframe tbody tr th {\n",
       "        vertical-align: top;\n",
       "    }\n",
       "\n",
       "    .dataframe thead th {\n",
       "        text-align: right;\n",
       "    }\n",
       "</style>\n",
       "<table border=\"1\" class=\"dataframe\">\n",
       "  <thead>\n",
       "    <tr style=\"text-align: right;\">\n",
       "      <th></th>\n",
       "      <th>price</th>\n",
       "      <th>age</th>\n",
       "      <th>manufacturer</th>\n",
       "      <th>model</th>\n",
       "      <th>condition</th>\n",
       "      <th>cylinders</th>\n",
       "      <th>fuel</th>\n",
       "      <th>mileage</th>\n",
       "      <th>title_status</th>\n",
       "      <th>transmission</th>\n",
       "      <th>drive</th>\n",
       "      <th>size</th>\n",
       "      <th>type</th>\n",
       "      <th>paint_color</th>\n",
       "      <th>word_len</th>\n",
       "    </tr>\n",
       "  </thead>\n",
       "  <tbody>\n",
       "    <tr>\n",
       "      <th>0</th>\n",
       "      <td>9000</td>\n",
       "      <td>11</td>\n",
       "      <td>chevrolet</td>\n",
       "      <td>other_models</td>\n",
       "      <td>good</td>\n",
       "      <td>8</td>\n",
       "      <td>gas</td>\n",
       "      <td>217743</td>\n",
       "      <td>clean</td>\n",
       "      <td>automatic</td>\n",
       "      <td>rwd</td>\n",
       "      <td>full-size</td>\n",
       "      <td>SUV</td>\n",
       "      <td>white</td>\n",
       "      <td>132</td>\n",
       "    </tr>\n",
       "    <tr>\n",
       "      <th>1</th>\n",
       "      <td>6000</td>\n",
       "      <td>18</td>\n",
       "      <td>gmc</td>\n",
       "      <td>sierra 1500</td>\n",
       "      <td>good</td>\n",
       "      <td>8</td>\n",
       "      <td>gas</td>\n",
       "      <td>195000</td>\n",
       "      <td>clean</td>\n",
       "      <td>automatic</td>\n",
       "      <td>4wd</td>\n",
       "      <td>full-size</td>\n",
       "      <td>pickup</td>\n",
       "      <td>white</td>\n",
       "      <td>505</td>\n",
       "    </tr>\n",
       "    <tr>\n",
       "      <th>2</th>\n",
       "      <td>37000</td>\n",
       "      <td>8</td>\n",
       "      <td>chevrolet</td>\n",
       "      <td>3500</td>\n",
       "      <td>excellent</td>\n",
       "      <td>8</td>\n",
       "      <td>diesel</td>\n",
       "      <td>178000</td>\n",
       "      <td>clean</td>\n",
       "      <td>automatic</td>\n",
       "      <td>4wd</td>\n",
       "      <td>full-size</td>\n",
       "      <td>pickup</td>\n",
       "      <td>silver</td>\n",
       "      <td>274</td>\n",
       "    </tr>\n",
       "    <tr>\n",
       "      <th>3</th>\n",
       "      <td>9700</td>\n",
       "      <td>10</td>\n",
       "      <td>cadillac</td>\n",
       "      <td>srx luxury collection</td>\n",
       "      <td>good</td>\n",
       "      <td>8</td>\n",
       "      <td>gas</td>\n",
       "      <td>140000</td>\n",
       "      <td>clean</td>\n",
       "      <td>automatic</td>\n",
       "      <td>fwd</td>\n",
       "      <td>mid-size</td>\n",
       "      <td>SUV</td>\n",
       "      <td>white</td>\n",
       "      <td>483</td>\n",
       "    </tr>\n",
       "    <tr>\n",
       "      <th>4</th>\n",
       "      <td>2500</td>\n",
       "      <td>19</td>\n",
       "      <td>chevrolet</td>\n",
       "      <td>silverado 1500</td>\n",
       "      <td>fair</td>\n",
       "      <td>8</td>\n",
       "      <td>gas</td>\n",
       "      <td>220000</td>\n",
       "      <td>clean</td>\n",
       "      <td>automatic</td>\n",
       "      <td>rwd</td>\n",
       "      <td>full-size</td>\n",
       "      <td>pickup</td>\n",
       "      <td>silver</td>\n",
       "      <td>3657</td>\n",
       "    </tr>\n",
       "  </tbody>\n",
       "</table>\n",
       "</div>"
      ],
      "text/plain": [
       "   price  age manufacturer                  model  condition  cylinders  \\\n",
       "0   9000   11    chevrolet           other_models       good          8   \n",
       "1   6000   18          gmc            sierra 1500       good          8   \n",
       "2  37000    8    chevrolet                   3500  excellent          8   \n",
       "3   9700   10     cadillac  srx luxury collection       good          8   \n",
       "4   2500   19    chevrolet         silverado 1500       fair          8   \n",
       "\n",
       "     fuel  mileage title_status transmission drive       size    type  \\\n",
       "0     gas   217743        clean    automatic   rwd  full-size     SUV   \n",
       "1     gas   195000        clean    automatic   4wd  full-size  pickup   \n",
       "2  diesel   178000        clean    automatic   4wd  full-size  pickup   \n",
       "3     gas   140000        clean    automatic   fwd   mid-size     SUV   \n",
       "4     gas   220000        clean    automatic   rwd  full-size  pickup   \n",
       "\n",
       "  paint_color  word_len  \n",
       "0       white       132  \n",
       "1       white       505  \n",
       "2      silver       274  \n",
       "3       white       483  \n",
       "4      silver      3657  "
      ]
     },
     "execution_count": 35,
     "metadata": {},
     "output_type": "execute_result"
    }
   ],
   "source": [
    "new_data.head()"
   ]
  },
  {
   "cell_type": "code",
   "execution_count": 36,
   "metadata": {
    "colab": {
     "base_uri": "https://localhost:8080/",
     "height": 286
    },
    "colab_type": "code",
    "id": "d6Ak3fCG5CSM",
    "outputId": "379ecf6d-06f8-4a5b-a08d-b595b4efc48b"
   },
   "outputs": [
    {
     "data": {
      "text/plain": [
       "price            int64\n",
       "age              int32\n",
       "manufacturer    object\n",
       "model           object\n",
       "condition       object\n",
       "cylinders        int32\n",
       "fuel            object\n",
       "mileage          int32\n",
       "title_status    object\n",
       "transmission    object\n",
       "drive           object\n",
       "size            object\n",
       "type            object\n",
       "paint_color     object\n",
       "word_len         int64\n",
       "dtype: object"
      ]
     },
     "execution_count": 36,
     "metadata": {},
     "output_type": "execute_result"
    }
   ],
   "source": [
    "new_data.dtypes"
   ]
  },
  {
   "cell_type": "code",
   "execution_count": 37,
   "metadata": {
    "colab": {
     "base_uri": "https://localhost:8080/",
     "height": 286
    },
    "colab_type": "code",
    "id": "PdEy7-x4KzEg",
    "outputId": "2ea9416f-df3c-4e06-a1fa-51574f71d4f8",
    "scrolled": true
   },
   "outputs": [
    {
     "data": {
      "text/plain": [
       "price           0\n",
       "age             0\n",
       "manufacturer    0\n",
       "model           0\n",
       "condition       0\n",
       "cylinders       0\n",
       "fuel            0\n",
       "mileage         0\n",
       "title_status    0\n",
       "transmission    0\n",
       "drive           0\n",
       "size            0\n",
       "type            0\n",
       "paint_color     0\n",
       "word_len        0\n",
       "dtype: int64"
      ]
     },
     "execution_count": 37,
     "metadata": {},
     "output_type": "execute_result"
    }
   ],
   "source": [
    "new_data.isnull().sum() # Now data is clean and it has no null values"
   ]
  },
  {
   "cell_type": "code",
   "execution_count": 38,
   "metadata": {
    "colab": {
     "base_uri": "https://localhost:8080/",
     "height": 284
    },
    "colab_type": "code",
    "id": "qL5ZUcJY5CSQ",
    "outputId": "6b315c5f-3e7a-4dc3-c963-b27bc0378849",
    "scrolled": true
   },
   "outputs": [
    {
     "data": {
      "text/html": [
       "<div>\n",
       "<style scoped>\n",
       "    .dataframe tbody tr th:only-of-type {\n",
       "        vertical-align: middle;\n",
       "    }\n",
       "\n",
       "    .dataframe tbody tr th {\n",
       "        vertical-align: top;\n",
       "    }\n",
       "\n",
       "    .dataframe thead th {\n",
       "        text-align: right;\n",
       "    }\n",
       "</style>\n",
       "<table border=\"1\" class=\"dataframe\">\n",
       "  <thead>\n",
       "    <tr style=\"text-align: right;\">\n",
       "      <th></th>\n",
       "      <th>price</th>\n",
       "      <th>age</th>\n",
       "      <th>manufacturer</th>\n",
       "      <th>model</th>\n",
       "      <th>condition</th>\n",
       "      <th>cylinders</th>\n",
       "      <th>fuel</th>\n",
       "      <th>mileage</th>\n",
       "      <th>title_status</th>\n",
       "      <th>transmission</th>\n",
       "      <th>drive</th>\n",
       "      <th>size</th>\n",
       "      <th>type</th>\n",
       "      <th>paint_color</th>\n",
       "      <th>word_len</th>\n",
       "    </tr>\n",
       "  </thead>\n",
       "  <tbody>\n",
       "    <tr>\n",
       "      <th>count</th>\n",
       "      <td>114180.000000</td>\n",
       "      <td>114180.000000</td>\n",
       "      <td>114180</td>\n",
       "      <td>114180</td>\n",
       "      <td>114180</td>\n",
       "      <td>114180.000000</td>\n",
       "      <td>114180</td>\n",
       "      <td>114180.000000</td>\n",
       "      <td>114180</td>\n",
       "      <td>114180</td>\n",
       "      <td>114180</td>\n",
       "      <td>114180</td>\n",
       "      <td>114180</td>\n",
       "      <td>114180</td>\n",
       "      <td>114180.000000</td>\n",
       "    </tr>\n",
       "    <tr>\n",
       "      <th>unique</th>\n",
       "      <td>NaN</td>\n",
       "      <td>NaN</td>\n",
       "      <td>42</td>\n",
       "      <td>2574</td>\n",
       "      <td>5</td>\n",
       "      <td>NaN</td>\n",
       "      <td>5</td>\n",
       "      <td>NaN</td>\n",
       "      <td>6</td>\n",
       "      <td>3</td>\n",
       "      <td>3</td>\n",
       "      <td>4</td>\n",
       "      <td>13</td>\n",
       "      <td>12</td>\n",
       "      <td>NaN</td>\n",
       "    </tr>\n",
       "    <tr>\n",
       "      <th>top</th>\n",
       "      <td>NaN</td>\n",
       "      <td>NaN</td>\n",
       "      <td>ford</td>\n",
       "      <td>other_models</td>\n",
       "      <td>excellent</td>\n",
       "      <td>NaN</td>\n",
       "      <td>gas</td>\n",
       "      <td>NaN</td>\n",
       "      <td>clean</td>\n",
       "      <td>automatic</td>\n",
       "      <td>4wd</td>\n",
       "      <td>full-size</td>\n",
       "      <td>sedan</td>\n",
       "      <td>white</td>\n",
       "      <td>NaN</td>\n",
       "    </tr>\n",
       "    <tr>\n",
       "      <th>freq</th>\n",
       "      <td>NaN</td>\n",
       "      <td>NaN</td>\n",
       "      <td>20977</td>\n",
       "      <td>13584</td>\n",
       "      <td>53316</td>\n",
       "      <td>NaN</td>\n",
       "      <td>105387</td>\n",
       "      <td>NaN</td>\n",
       "      <td>106684</td>\n",
       "      <td>103661</td>\n",
       "      <td>46905</td>\n",
       "      <td>60146</td>\n",
       "      <td>32570</td>\n",
       "      <td>25028</td>\n",
       "      <td>NaN</td>\n",
       "    </tr>\n",
       "    <tr>\n",
       "      <th>mean</th>\n",
       "      <td>10475.529865</td>\n",
       "      <td>11.273883</td>\n",
       "      <td>NaN</td>\n",
       "      <td>NaN</td>\n",
       "      <td>NaN</td>\n",
       "      <td>5.935645</td>\n",
       "      <td>NaN</td>\n",
       "      <td>117485.298634</td>\n",
       "      <td>NaN</td>\n",
       "      <td>NaN</td>\n",
       "      <td>NaN</td>\n",
       "      <td>NaN</td>\n",
       "      <td>NaN</td>\n",
       "      <td>NaN</td>\n",
       "      <td>1685.352347</td>\n",
       "    </tr>\n",
       "    <tr>\n",
       "      <th>std</th>\n",
       "      <td>8148.561698</td>\n",
       "      <td>5.617062</td>\n",
       "      <td>NaN</td>\n",
       "      <td>NaN</td>\n",
       "      <td>NaN</td>\n",
       "      <td>1.536442</td>\n",
       "      <td>NaN</td>\n",
       "      <td>62421.126557</td>\n",
       "      <td>NaN</td>\n",
       "      <td>NaN</td>\n",
       "      <td>NaN</td>\n",
       "      <td>NaN</td>\n",
       "      <td>NaN</td>\n",
       "      <td>NaN</td>\n",
       "      <td>2003.263764</td>\n",
       "    </tr>\n",
       "    <tr>\n",
       "      <th>min</th>\n",
       "      <td>52.000000</td>\n",
       "      <td>1.000000</td>\n",
       "      <td>NaN</td>\n",
       "      <td>NaN</td>\n",
       "      <td>NaN</td>\n",
       "      <td>3.000000</td>\n",
       "      <td>NaN</td>\n",
       "      <td>0.000000</td>\n",
       "      <td>NaN</td>\n",
       "      <td>NaN</td>\n",
       "      <td>NaN</td>\n",
       "      <td>NaN</td>\n",
       "      <td>NaN</td>\n",
       "      <td>NaN</td>\n",
       "      <td>5.000000</td>\n",
       "    </tr>\n",
       "    <tr>\n",
       "      <th>25%</th>\n",
       "      <td>4400.000000</td>\n",
       "      <td>7.000000</td>\n",
       "      <td>NaN</td>\n",
       "      <td>NaN</td>\n",
       "      <td>NaN</td>\n",
       "      <td>4.000000</td>\n",
       "      <td>NaN</td>\n",
       "      <td>73197.000000</td>\n",
       "      <td>NaN</td>\n",
       "      <td>NaN</td>\n",
       "      <td>NaN</td>\n",
       "      <td>NaN</td>\n",
       "      <td>NaN</td>\n",
       "      <td>NaN</td>\n",
       "      <td>399.000000</td>\n",
       "    </tr>\n",
       "    <tr>\n",
       "      <th>50%</th>\n",
       "      <td>7995.000000</td>\n",
       "      <td>11.000000</td>\n",
       "      <td>NaN</td>\n",
       "      <td>NaN</td>\n",
       "      <td>NaN</td>\n",
       "      <td>6.000000</td>\n",
       "      <td>NaN</td>\n",
       "      <td>115397.500000</td>\n",
       "      <td>NaN</td>\n",
       "      <td>NaN</td>\n",
       "      <td>NaN</td>\n",
       "      <td>NaN</td>\n",
       "      <td>NaN</td>\n",
       "      <td>NaN</td>\n",
       "      <td>840.000000</td>\n",
       "    </tr>\n",
       "    <tr>\n",
       "      <th>75%</th>\n",
       "      <td>14500.000000</td>\n",
       "      <td>15.000000</td>\n",
       "      <td>NaN</td>\n",
       "      <td>NaN</td>\n",
       "      <td>NaN</td>\n",
       "      <td>8.000000</td>\n",
       "      <td>NaN</td>\n",
       "      <td>157900.000000</td>\n",
       "      <td>NaN</td>\n",
       "      <td>NaN</td>\n",
       "      <td>NaN</td>\n",
       "      <td>NaN</td>\n",
       "      <td>NaN</td>\n",
       "      <td>NaN</td>\n",
       "      <td>2027.000000</td>\n",
       "    </tr>\n",
       "    <tr>\n",
       "      <th>max</th>\n",
       "      <td>40350.000000</td>\n",
       "      <td>28.000000</td>\n",
       "      <td>NaN</td>\n",
       "      <td>NaN</td>\n",
       "      <td>NaN</td>\n",
       "      <td>10.000000</td>\n",
       "      <td>NaN</td>\n",
       "      <td>443000.000000</td>\n",
       "      <td>NaN</td>\n",
       "      <td>NaN</td>\n",
       "      <td>NaN</td>\n",
       "      <td>NaN</td>\n",
       "      <td>NaN</td>\n",
       "      <td>NaN</td>\n",
       "      <td>10413.000000</td>\n",
       "    </tr>\n",
       "  </tbody>\n",
       "</table>\n",
       "</div>"
      ],
      "text/plain": [
       "                price            age manufacturer         model  condition  \\\n",
       "count   114180.000000  114180.000000       114180        114180     114180   \n",
       "unique            NaN            NaN           42          2574          5   \n",
       "top               NaN            NaN         ford  other_models  excellent   \n",
       "freq              NaN            NaN        20977         13584      53316   \n",
       "mean     10475.529865      11.273883          NaN           NaN        NaN   \n",
       "std       8148.561698       5.617062          NaN           NaN        NaN   \n",
       "min         52.000000       1.000000          NaN           NaN        NaN   \n",
       "25%       4400.000000       7.000000          NaN           NaN        NaN   \n",
       "50%       7995.000000      11.000000          NaN           NaN        NaN   \n",
       "75%      14500.000000      15.000000          NaN           NaN        NaN   \n",
       "max      40350.000000      28.000000          NaN           NaN        NaN   \n",
       "\n",
       "            cylinders    fuel        mileage title_status transmission  \\\n",
       "count   114180.000000  114180  114180.000000       114180       114180   \n",
       "unique            NaN       5            NaN            6            3   \n",
       "top               NaN     gas            NaN        clean    automatic   \n",
       "freq              NaN  105387            NaN       106684       103661   \n",
       "mean         5.935645     NaN  117485.298634          NaN          NaN   \n",
       "std          1.536442     NaN   62421.126557          NaN          NaN   \n",
       "min          3.000000     NaN       0.000000          NaN          NaN   \n",
       "25%          4.000000     NaN   73197.000000          NaN          NaN   \n",
       "50%          6.000000     NaN  115397.500000          NaN          NaN   \n",
       "75%          8.000000     NaN  157900.000000          NaN          NaN   \n",
       "max         10.000000     NaN  443000.000000          NaN          NaN   \n",
       "\n",
       "         drive       size    type paint_color       word_len  \n",
       "count   114180     114180  114180      114180  114180.000000  \n",
       "unique       3          4      13          12            NaN  \n",
       "top        4wd  full-size   sedan       white            NaN  \n",
       "freq     46905      60146   32570       25028            NaN  \n",
       "mean       NaN        NaN     NaN         NaN    1685.352347  \n",
       "std        NaN        NaN     NaN         NaN    2003.263764  \n",
       "min        NaN        NaN     NaN         NaN       5.000000  \n",
       "25%        NaN        NaN     NaN         NaN     399.000000  \n",
       "50%        NaN        NaN     NaN         NaN     840.000000  \n",
       "75%        NaN        NaN     NaN         NaN    2027.000000  \n",
       "max        NaN        NaN     NaN         NaN   10413.000000  "
      ]
     },
     "execution_count": 38,
     "metadata": {},
     "output_type": "execute_result"
    }
   ],
   "source": [
    "new_data.describe(include= 'all')"
   ]
  },
  {
   "cell_type": "code",
   "execution_count": 39,
   "metadata": {
    "colab": {},
    "colab_type": "code",
    "id": "B0SsWojaQMpH"
   },
   "outputs": [],
   "source": [
    "#saving the cleaned data to new csv file\n",
    "new_data.to_csv('Final_data1', index= False)"
   ]
  },
  {
   "cell_type": "code",
   "execution_count": 2,
   "metadata": {
    "colab": {},
    "colab_type": "code",
    "id": "aSQxUUxIfWik"
   },
   "outputs": [],
   "source": [
    "Final_data = pd.read_csv('Final_data1')"
   ]
  },
  {
   "cell_type": "code",
   "execution_count": 41,
   "metadata": {},
   "outputs": [],
   "source": [
    "def unique_val(data, columns):\n",
    "    unique = []\n",
    "    for col in columns:\n",
    "        u = data[col].nunique()\n",
    "        unique.append((col,u,data[col].value_counts(normalize=True).values[0] * 100))\n",
    "    return unique"
   ]
  },
  {
   "cell_type": "code",
   "execution_count": 42,
   "metadata": {},
   "outputs": [],
   "source": [
    "unique = unique_val(Final_data, Final_data.columns)"
   ]
  },
  {
   "cell_type": "code",
   "execution_count": 43,
   "metadata": {},
   "outputs": [
    {
     "data": {
      "text/html": [
       "<div>\n",
       "<style scoped>\n",
       "    .dataframe tbody tr th:only-of-type {\n",
       "        vertical-align: middle;\n",
       "    }\n",
       "\n",
       "    .dataframe tbody tr th {\n",
       "        vertical-align: top;\n",
       "    }\n",
       "\n",
       "    .dataframe thead th {\n",
       "        text-align: right;\n",
       "    }\n",
       "</style>\n",
       "<table border=\"1\" class=\"dataframe\">\n",
       "  <thead>\n",
       "    <tr style=\"text-align: right;\">\n",
       "      <th></th>\n",
       "      <th>Features</th>\n",
       "      <th>unique_values</th>\n",
       "      <th>Largest category percentage</th>\n",
       "    </tr>\n",
       "  </thead>\n",
       "  <tbody>\n",
       "    <tr>\n",
       "      <th>8</th>\n",
       "      <td>title_status</td>\n",
       "      <td>6</td>\n",
       "      <td>93.434927</td>\n",
       "    </tr>\n",
       "    <tr>\n",
       "      <th>6</th>\n",
       "      <td>fuel</td>\n",
       "      <td>5</td>\n",
       "      <td>92.299002</td>\n",
       "    </tr>\n",
       "    <tr>\n",
       "      <th>9</th>\n",
       "      <td>transmission</td>\n",
       "      <td>3</td>\n",
       "      <td>90.787353</td>\n",
       "    </tr>\n",
       "    <tr>\n",
       "      <th>11</th>\n",
       "      <td>size</td>\n",
       "      <td>4</td>\n",
       "      <td>52.676476</td>\n",
       "    </tr>\n",
       "    <tr>\n",
       "      <th>4</th>\n",
       "      <td>condition</td>\n",
       "      <td>5</td>\n",
       "      <td>46.694693</td>\n",
       "    </tr>\n",
       "    <tr>\n",
       "      <th>5</th>\n",
       "      <td>cylinders</td>\n",
       "      <td>6</td>\n",
       "      <td>41.628131</td>\n",
       "    </tr>\n",
       "    <tr>\n",
       "      <th>10</th>\n",
       "      <td>drive</td>\n",
       "      <td>3</td>\n",
       "      <td>41.079874</td>\n",
       "    </tr>\n",
       "    <tr>\n",
       "      <th>12</th>\n",
       "      <td>type</td>\n",
       "      <td>13</td>\n",
       "      <td>28.525136</td>\n",
       "    </tr>\n",
       "    <tr>\n",
       "      <th>13</th>\n",
       "      <td>paint_color</td>\n",
       "      <td>12</td>\n",
       "      <td>21.919776</td>\n",
       "    </tr>\n",
       "    <tr>\n",
       "      <th>2</th>\n",
       "      <td>manufacturer</td>\n",
       "      <td>42</td>\n",
       "      <td>18.371869</td>\n",
       "    </tr>\n",
       "    <tr>\n",
       "      <th>3</th>\n",
       "      <td>model</td>\n",
       "      <td>2574</td>\n",
       "      <td>11.897005</td>\n",
       "    </tr>\n",
       "    <tr>\n",
       "      <th>1</th>\n",
       "      <td>age</td>\n",
       "      <td>28</td>\n",
       "      <td>7.050272</td>\n",
       "    </tr>\n",
       "    <tr>\n",
       "      <th>0</th>\n",
       "      <td>price</td>\n",
       "      <td>5961</td>\n",
       "      <td>1.432825</td>\n",
       "    </tr>\n",
       "    <tr>\n",
       "      <th>7</th>\n",
       "      <td>mileage</td>\n",
       "      <td>49627</td>\n",
       "      <td>0.528989</td>\n",
       "    </tr>\n",
       "    <tr>\n",
       "      <th>14</th>\n",
       "      <td>word_len</td>\n",
       "      <td>8985</td>\n",
       "      <td>0.136626</td>\n",
       "    </tr>\n",
       "  </tbody>\n",
       "</table>\n",
       "</div>"
      ],
      "text/plain": [
       "        Features  unique_values  Largest category percentage\n",
       "8   title_status              6                    93.434927\n",
       "6           fuel              5                    92.299002\n",
       "9   transmission              3                    90.787353\n",
       "11          size              4                    52.676476\n",
       "4      condition              5                    46.694693\n",
       "5      cylinders              6                    41.628131\n",
       "10         drive              3                    41.079874\n",
       "12          type             13                    28.525136\n",
       "13   paint_color             12                    21.919776\n",
       "2   manufacturer             42                    18.371869\n",
       "3          model           2574                    11.897005\n",
       "1            age             28                     7.050272\n",
       "0          price           5961                     1.432825\n",
       "7        mileage          49627                     0.528989\n",
       "14      word_len           8985                     0.136626"
      ]
     },
     "execution_count": 43,
     "metadata": {},
     "output_type": "execute_result"
    }
   ],
   "source": [
    "unique_values = pd.DataFrame(unique, columns = ['Features','unique_values','Largest category percentage']).sort_values('Largest category percentage',ascending = False)\n",
    "unique_values"
   ]
  },
  {
   "cell_type": "code",
   "execution_count": 44,
   "metadata": {},
   "outputs": [
    {
     "data": {
      "text/html": [
       "<div>\n",
       "<style scoped>\n",
       "    .dataframe tbody tr th:only-of-type {\n",
       "        vertical-align: middle;\n",
       "    }\n",
       "\n",
       "    .dataframe tbody tr th {\n",
       "        vertical-align: top;\n",
       "    }\n",
       "\n",
       "    .dataframe thead th {\n",
       "        text-align: right;\n",
       "    }\n",
       "</style>\n",
       "<table border=\"1\" class=\"dataframe\">\n",
       "  <thead>\n",
       "    <tr style=\"text-align: right;\">\n",
       "      <th></th>\n",
       "      <th>Features</th>\n",
       "      <th>unique_values</th>\n",
       "      <th>Largest category percentage</th>\n",
       "    </tr>\n",
       "  </thead>\n",
       "  <tbody>\n",
       "    <tr>\n",
       "      <th>8</th>\n",
       "      <td>title_status</td>\n",
       "      <td>6</td>\n",
       "      <td>93.434927</td>\n",
       "    </tr>\n",
       "    <tr>\n",
       "      <th>6</th>\n",
       "      <td>fuel</td>\n",
       "      <td>5</td>\n",
       "      <td>92.299002</td>\n",
       "    </tr>\n",
       "    <tr>\n",
       "      <th>9</th>\n",
       "      <td>transmission</td>\n",
       "      <td>3</td>\n",
       "      <td>90.787353</td>\n",
       "    </tr>\n",
       "  </tbody>\n",
       "</table>\n",
       "</div>"
      ],
      "text/plain": [
       "       Features  unique_values  Largest category percentage\n",
       "8  title_status              6                    93.434927\n",
       "6          fuel              5                    92.299002\n",
       "9  transmission              3                    90.787353"
      ]
     },
     "execution_count": 44,
     "metadata": {},
     "output_type": "execute_result"
    }
   ],
   "source": [
    "imbalanced_columns = unique_values[unique_values['Largest category percentage'] > 80.0]\n",
    "imbalanced_columns"
   ]
  },
  {
   "cell_type": "code",
   "execution_count": 45,
   "metadata": {},
   "outputs": [],
   "source": [
    "#dropping the imbalanced columns which has one category that holds most of values in the feature.\n",
    "Final_data1 = Final_data.drop(columns = imbalanced_columns.Features)"
   ]
  },
  {
   "cell_type": "code",
   "execution_count": 46,
   "metadata": {},
   "outputs": [
    {
     "data": {
      "text/plain": [
       "(114180, 12)"
      ]
     },
     "execution_count": 46,
     "metadata": {},
     "output_type": "execute_result"
    }
   ],
   "source": [
    "Final_data1.shape"
   ]
  },
  {
   "cell_type": "code",
   "execution_count": 47,
   "metadata": {},
   "outputs": [
    {
     "data": {
      "text/plain": [
       "Index(['price', 'age', 'manufacturer', 'model', 'condition', 'cylinders',\n",
       "       'mileage', 'drive', 'size', 'type', 'paint_color', 'word_len'],\n",
       "      dtype='object')"
      ]
     },
     "execution_count": 47,
     "metadata": {},
     "output_type": "execute_result"
    }
   ],
   "source": [
    "Final_data1.columns"
   ]
  },
  {
   "cell_type": "code",
   "execution_count": null,
   "metadata": {},
   "outputs": [],
   "source": []
  },
  {
   "cell_type": "markdown",
   "metadata": {
    "colab_type": "text",
    "id": "4-7KB9l7UAEf"
   },
   "source": [
    "## **Visualization**"
   ]
  },
  {
   "cell_type": "code",
   "execution_count": 48,
   "metadata": {
    "colab": {
     "base_uri": "https://localhost:8080/",
     "height": 351
    },
    "colab_type": "code",
    "id": "2rst-CY2ZNqQ",
    "outputId": "9445f484-2070-4cd0-925d-31d7d7e1554c"
   },
   "outputs": [
    {
     "data": {
      "text/plain": [
       "<matplotlib.axes._subplots.AxesSubplot at 0x21412204d08>"
      ]
     },
     "execution_count": 48,
     "metadata": {},
     "output_type": "execute_result"
    },
    {
     "data": {
      "image/png": "[encoded data removed]",
      "text/plain": [
       "<Figure size 864x360 with 1 Axes>"
      ]
     },
     "metadata": {
      "needs_background": "light"
     },
     "output_type": "display_data"
    }
   ],
   "source": [
    "plt.figure(figsize = (12,5))\n",
    "sns.countplot(x = 'type', order = Final_data['type'].value_counts().index, data = Final_data)"
   ]
  },
  {
   "cell_type": "markdown",
   "metadata": {},
   "source": [
    "__People are selling the used Sedan the most followed by SUV and Trucks. They are very less likely to sell Bus and off-road vehicles because customer dont buy those often.__"
   ]
  },
  {
   "cell_type": "code",
   "execution_count": 49,
   "metadata": {
    "colab": {
     "base_uri": "https://localhost:8080/",
     "height": 353
    },
    "colab_type": "code",
    "id": "INDHVg4OY9VX",
    "outputId": "8dd9e57f-7300-4c57-dc5e-428170cda3c7"
   },
   "outputs": [
    {
     "data": {
      "text/plain": [
       "<matplotlib.axes._subplots.AxesSubplot at 0x214129bee08>"
      ]
     },
     "execution_count": 49,
     "metadata": {},
     "output_type": "execute_result"
    },
    {
     "data": {
      "image/png": "[encoded data removed]",
      "text/plain": [
       "<Figure size 720x360 with 1 Axes>"
      ]
     },
     "metadata": {
      "needs_background": "light"
     },
     "output_type": "display_data"
    }
   ],
   "source": [
    "plt.figure(figsize = (10,5))\n",
    "sns.countplot(x = 'paint_color', order = Final_data['paint_color'].value_counts().index,data = Final_data)"
   ]
  },
  {
   "cell_type": "markdown",
   "metadata": {},
   "source": [
    "1. __We can see that people are buying used cars with common colors(white,grey,black,silver,blue,red) than not common colors__\n",
    "2. __Not Common colors (purple, orange, green etc) are mostly luxury cars which are too expensive__"
   ]
  },
  {
   "cell_type": "code",
   "execution_count": 50,
   "metadata": {
    "colab": {
     "base_uri": "https://localhost:8080/",
     "height": 471
    },
    "colab_type": "code",
    "id": "bhj0hp5RU-vH",
    "outputId": "245dc373-dc7c-48da-b75d-775c1d915a13"
   },
   "outputs": [
    {
     "data": {
      "text/plain": [
       "(array([ 0,  1,  2,  3,  4,  5,  6,  7,  8,  9, 10, 11, 12, 13, 14, 15, 16,\n",
       "        17, 18, 19, 20, 21, 22, 23, 24, 25, 26, 27, 28, 29, 30, 31, 32, 33,\n",
       "        34, 35, 36, 37, 38, 39, 40, 41]),\n",
       " <a list of 42 Text xticklabel objects>)"
      ]
     },
     "execution_count": 50,
     "metadata": {},
     "output_type": "execute_result"
    },
    {
     "data": {
      "image/png": "[encoded data removed]",
      "text/plain": [
       "<Figure size 720x360 with 1 Axes>"
      ]
     },
     "metadata": {
      "needs_background": "light"
     },
     "output_type": "display_data"
    }
   ],
   "source": [
    "plt.figure(figsize = (10,5))\n",
    "sns.countplot(x = 'manufacturer', order = Final_data['manufacturer'].value_counts().index, data = Final_data)\n",
    "plt.xticks(rotation = 90)"
   ]
  },
  {
   "cell_type": "markdown",
   "metadata": {},
   "source": [
    "__Ford, Toyota, Chevrolet and Honda__ manufacturer cover most of the used cars because they are cheap and good than other manufacturers like __Ferrari, Rolls-Royce and Hennessey__"
   ]
  },
  {
   "cell_type": "code",
   "execution_count": 51,
   "metadata": {
    "colab": {
     "base_uri": "https://localhost:8080/",
     "height": 351
    },
    "colab_type": "code",
    "id": "0dPTtU9sU-3m",
    "outputId": "fd531cab-5af4-40f5-a437-eadeaa2b2af0"
   },
   "outputs": [
    {
     "data": {
      "text/plain": [
       "<matplotlib.axes._subplots.AxesSubplot at 0x21411767808>"
      ]
     },
     "execution_count": 51,
     "metadata": {},
     "output_type": "execute_result"
    },
    {
     "data": {
      "image/png": "[encoded data removed]",
      "text/plain": [
       "<Figure size 720x360 with 1 Axes>"
      ]
     },
     "metadata": {
      "needs_background": "light"
     },
     "output_type": "display_data"
    }
   ],
   "source": [
    "plt.figure(figsize = (10,5))\n",
    "sns.countplot(x = 'age', order = Final_data['age'].value_counts().index, data = Final_data)"
   ]
  },
  {
   "cell_type": "code",
   "execution_count": 52,
   "metadata": {
    "colab": {
     "base_uri": "https://localhost:8080/",
     "height": 307
    },
    "colab_type": "code",
    "id": "zW2lh_4wY18o",
    "outputId": "afbed46b-fda0-4124-e4d2-a01ac70f417a"
   },
   "outputs": [
    {
     "data": {
      "text/plain": [
       "<matplotlib.axes._subplots.AxesSubplot at 0x214128bc248>"
      ]
     },
     "execution_count": 52,
     "metadata": {},
     "output_type": "execute_result"
    },
    {
     "data": {
      "image/png": "[encoded data removed]",
      "text/plain": [
       "<Figure size 432x288 with 1 Axes>"
      ]
     },
     "metadata": {
      "needs_background": "light"
     },
     "output_type": "display_data"
    }
   ],
   "source": [
    "sns.distplot(Final_data['mileage'])"
   ]
  },
  {
   "cell_type": "code",
   "execution_count": 53,
   "metadata": {
    "colab": {
     "base_uri": "https://localhost:8080/",
     "height": 297
    },
    "colab_type": "code",
    "id": "G_QLyeroZBv7",
    "outputId": "74b53647-6f93-415b-f64a-3c2f6cf72547"
   },
   "outputs": [
    {
     "data": {
      "text/plain": [
       "<matplotlib.axes._subplots.AxesSubplot at 0x2140d3f4a08>"
      ]
     },
     "execution_count": 53,
     "metadata": {},
     "output_type": "execute_result"
    },
    {
     "data": {
      "image/png": "[encoded data removed]",
      "text/plain": [
       "<Figure size 432x288 with 1 Axes>"
      ]
     },
     "metadata": {
      "needs_background": "light"
     },
     "output_type": "display_data"
    }
   ],
   "source": [
    "sns.distplot(Final_data['word_len'])"
   ]
  },
  {
   "cell_type": "code",
   "execution_count": 54,
   "metadata": {
    "colab": {
     "base_uri": "https://localhost:8080/",
     "height": 282
    },
    "colab_type": "code",
    "id": "7EFufK-S5CSo",
    "outputId": "e870878e-2864-4190-b7b4-1d1a870d2f18"
   },
   "outputs": [
    {
     "data": {
      "text/plain": [
       "<matplotlib.axes._subplots.AxesSubplot at 0x2141a2e1e48>"
      ]
     },
     "execution_count": 54,
     "metadata": {},
     "output_type": "execute_result"
    },
    {
     "data": {
      "image/png": "[encoded data removed]",
      "text/plain": [
       "<Figure size 432x288 with 1 Axes>"
      ]
     },
     "metadata": {
      "needs_background": "light"
     },
     "output_type": "display_data"
    }
   ],
   "source": [
    "Final_data.boxplot('mileage')"
   ]
  },
  {
   "cell_type": "code",
   "execution_count": 55,
   "metadata": {
    "colab": {
     "base_uri": "https://localhost:8080/",
     "height": 283
    },
    "colab_type": "code",
    "id": "D638lNmu5CSq",
    "outputId": "a1570ced-aa5c-4189-f84c-f08bcd272076"
   },
   "outputs": [
    {
     "data": {
      "text/plain": [
       "<matplotlib.axes._subplots.AxesSubplot at 0x2140d3f58c8>"
      ]
     },
     "execution_count": 55,
     "metadata": {},
     "output_type": "execute_result"
    },
    {
     "data": {
      "image/png": "[encoded data removed]",
      "text/plain": [
       "<Figure size 432x288 with 1 Axes>"
      ]
     },
     "metadata": {
      "needs_background": "light"
     },
     "output_type": "display_data"
    }
   ],
   "source": [
    "Final_data.boxplot('word_len')"
   ]
  },
  {
   "cell_type": "code",
   "execution_count": 56,
   "metadata": {},
   "outputs": [
    {
     "data": {
      "text/plain": [
       "<matplotlib.axes._subplots.AxesSubplot at 0x2141a3b63c8>"
      ]
     },
     "execution_count": 56,
     "metadata": {},
     "output_type": "execute_result"
    },
    {
     "data": {
      "image/png": "[encoded data removed]",
      "text/plain": [
       "<Figure size 432x288 with 1 Axes>"
      ]
     },
     "metadata": {
      "needs_background": "light"
     },
     "output_type": "display_data"
    }
   ],
   "source": [
    "Final_data.boxplot('price')"
   ]
  },
  {
   "cell_type": "code",
   "execution_count": 57,
   "metadata": {
    "colab": {
     "base_uri": "https://localhost:8080/",
     "height": 342
    },
    "colab_type": "code",
    "id": "qFpc6Biv5CSr",
    "outputId": "823f898d-2dbb-4bd6-b77f-fafaacdfe0bc"
   },
   "outputs": [
    {
     "data": {
      "text/plain": [
       "<matplotlib.axes._subplots.AxesSubplot at 0x2141a412148>"
      ]
     },
     "execution_count": 57,
     "metadata": {},
     "output_type": "execute_result"
    },
    {
     "data": {
      "image/png": "[encoded data removed]",
      "text/plain": [
       "<Figure size 720x504 with 2 Axes>"
      ]
     },
     "metadata": {
      "needs_background": "light"
     },
     "output_type": "display_data"
    }
   ],
   "source": [
    "plt.figure(figsize = (10,7))\n",
    "corr = Final_data.corr()\n",
    "sns.heatmap(corr, annot = True)"
   ]
  },
  {
   "cell_type": "markdown",
   "metadata": {
    "colab_type": "text",
    "id": "MFyhqj6a5CS_"
   },
   "source": [
    "## **Model building**"
   ]
  },
  {
   "cell_type": "code",
   "execution_count": 3,
   "metadata": {
    "colab": {},
    "colab_type": "code",
    "id": "oGD5m58e5CTC"
   },
   "outputs": [],
   "source": [
    "from sklearn.model_selection import KFold\n",
    "from sklearn.model_selection import train_test_split\n",
    "from sklearn.metrics import r2_score\n",
    "from sklearn.model_selection import cross_val_score\n",
    "from sklearn.preprocessing import MinMaxScaler"
   ]
  },
  {
   "cell_type": "code",
   "execution_count": 4,
   "metadata": {
    "colab": {},
    "colab_type": "code",
    "id": "9U3ZARayT2Ox"
   },
   "outputs": [],
   "source": [
    "from sklearn.linear_model import LinearRegression\n",
    "from sklearn.linear_model import Lasso\n",
    "from sklearn.linear_model import Ridge\n",
    "from sklearn.tree import DecisionTreeRegressor\n",
    "from sklearn.ensemble import GradientBoostingRegressor\n",
    "from sklearn.ensemble import RandomForestRegressor\n",
    "from bayes_opt import BayesianOptimization"
   ]
  },
  {
   "cell_type": "code",
   "execution_count": 5,
   "metadata": {
    "colab": {
     "base_uri": "https://localhost:8080/",
     "height": 261
    },
    "colab_type": "code",
    "id": "H4kHgxjv5CTL",
    "outputId": "2ccec8b4-7651-4999-bfb4-aceca2b0b82d"
   },
   "outputs": [
    {
     "data": {
      "text/html": [
       "<div>\n",
       "<style scoped>\n",
       "    .dataframe tbody tr th:only-of-type {\n",
       "        vertical-align: middle;\n",
       "    }\n",
       "\n",
       "    .dataframe tbody tr th {\n",
       "        vertical-align: top;\n",
       "    }\n",
       "\n",
       "    .dataframe thead th {\n",
       "        text-align: right;\n",
       "    }\n",
       "</style>\n",
       "<table border=\"1\" class=\"dataframe\">\n",
       "  <thead>\n",
       "    <tr style=\"text-align: right;\">\n",
       "      <th></th>\n",
       "      <th>price</th>\n",
       "      <th>age</th>\n",
       "      <th>cylinders</th>\n",
       "      <th>mileage</th>\n",
       "      <th>word_len</th>\n",
       "      <th>manufacturer_Rolls-Royce</th>\n",
       "      <th>manufacturer_Tesla</th>\n",
       "      <th>manufacturer_acura</th>\n",
       "      <th>manufacturer_alfa-romeo</th>\n",
       "      <th>manufacturer_audi</th>\n",
       "      <th>...</th>\n",
       "      <th>paint_color_brown</th>\n",
       "      <th>paint_color_custom</th>\n",
       "      <th>paint_color_green</th>\n",
       "      <th>paint_color_grey</th>\n",
       "      <th>paint_color_orange</th>\n",
       "      <th>paint_color_purple</th>\n",
       "      <th>paint_color_red</th>\n",
       "      <th>paint_color_silver</th>\n",
       "      <th>paint_color_white</th>\n",
       "      <th>paint_color_yellow</th>\n",
       "    </tr>\n",
       "  </thead>\n",
       "  <tbody>\n",
       "    <tr>\n",
       "      <th>0</th>\n",
       "      <td>9000</td>\n",
       "      <td>11</td>\n",
       "      <td>8</td>\n",
       "      <td>217743</td>\n",
       "      <td>132</td>\n",
       "      <td>0</td>\n",
       "      <td>0</td>\n",
       "      <td>0</td>\n",
       "      <td>0</td>\n",
       "      <td>0</td>\n",
       "      <td>...</td>\n",
       "      <td>0</td>\n",
       "      <td>0</td>\n",
       "      <td>0</td>\n",
       "      <td>0</td>\n",
       "      <td>0</td>\n",
       "      <td>0</td>\n",
       "      <td>0</td>\n",
       "      <td>0</td>\n",
       "      <td>1</td>\n",
       "      <td>0</td>\n",
       "    </tr>\n",
       "    <tr>\n",
       "      <th>1</th>\n",
       "      <td>6000</td>\n",
       "      <td>18</td>\n",
       "      <td>8</td>\n",
       "      <td>195000</td>\n",
       "      <td>505</td>\n",
       "      <td>0</td>\n",
       "      <td>0</td>\n",
       "      <td>0</td>\n",
       "      <td>0</td>\n",
       "      <td>0</td>\n",
       "      <td>...</td>\n",
       "      <td>0</td>\n",
       "      <td>0</td>\n",
       "      <td>0</td>\n",
       "      <td>0</td>\n",
       "      <td>0</td>\n",
       "      <td>0</td>\n",
       "      <td>0</td>\n",
       "      <td>0</td>\n",
       "      <td>1</td>\n",
       "      <td>0</td>\n",
       "    </tr>\n",
       "    <tr>\n",
       "      <th>2</th>\n",
       "      <td>37000</td>\n",
       "      <td>8</td>\n",
       "      <td>8</td>\n",
       "      <td>178000</td>\n",
       "      <td>274</td>\n",
       "      <td>0</td>\n",
       "      <td>0</td>\n",
       "      <td>0</td>\n",
       "      <td>0</td>\n",
       "      <td>0</td>\n",
       "      <td>...</td>\n",
       "      <td>0</td>\n",
       "      <td>0</td>\n",
       "      <td>0</td>\n",
       "      <td>0</td>\n",
       "      <td>0</td>\n",
       "      <td>0</td>\n",
       "      <td>0</td>\n",
       "      <td>1</td>\n",
       "      <td>0</td>\n",
       "      <td>0</td>\n",
       "    </tr>\n",
       "    <tr>\n",
       "      <th>3</th>\n",
       "      <td>9700</td>\n",
       "      <td>10</td>\n",
       "      <td>8</td>\n",
       "      <td>140000</td>\n",
       "      <td>483</td>\n",
       "      <td>0</td>\n",
       "      <td>0</td>\n",
       "      <td>0</td>\n",
       "      <td>0</td>\n",
       "      <td>0</td>\n",
       "      <td>...</td>\n",
       "      <td>0</td>\n",
       "      <td>0</td>\n",
       "      <td>0</td>\n",
       "      <td>0</td>\n",
       "      <td>0</td>\n",
       "      <td>0</td>\n",
       "      <td>0</td>\n",
       "      <td>0</td>\n",
       "      <td>1</td>\n",
       "      <td>0</td>\n",
       "    </tr>\n",
       "    <tr>\n",
       "      <th>4</th>\n",
       "      <td>2500</td>\n",
       "      <td>19</td>\n",
       "      <td>8</td>\n",
       "      <td>220000</td>\n",
       "      <td>3657</td>\n",
       "      <td>0</td>\n",
       "      <td>0</td>\n",
       "      <td>0</td>\n",
       "      <td>0</td>\n",
       "      <td>0</td>\n",
       "      <td>...</td>\n",
       "      <td>0</td>\n",
       "      <td>0</td>\n",
       "      <td>0</td>\n",
       "      <td>0</td>\n",
       "      <td>0</td>\n",
       "      <td>0</td>\n",
       "      <td>0</td>\n",
       "      <td>1</td>\n",
       "      <td>0</td>\n",
       "      <td>0</td>\n",
       "    </tr>\n",
       "  </tbody>\n",
       "</table>\n",
       "<p>5 rows × 2672 columns</p>\n",
       "</div>"
      ],
      "text/plain": [
       "   price  age  cylinders  mileage  word_len  manufacturer_Rolls-Royce  \\\n",
       "0   9000   11          8   217743       132                         0   \n",
       "1   6000   18          8   195000       505                         0   \n",
       "2  37000    8          8   178000       274                         0   \n",
       "3   9700   10          8   140000       483                         0   \n",
       "4   2500   19          8   220000      3657                         0   \n",
       "\n",
       "   manufacturer_Tesla  manufacturer_acura  manufacturer_alfa-romeo  \\\n",
       "0                   0                   0                        0   \n",
       "1                   0                   0                        0   \n",
       "2                   0                   0                        0   \n",
       "3                   0                   0                        0   \n",
       "4                   0                   0                        0   \n",
       "\n",
       "   manufacturer_audi  ...  paint_color_brown  paint_color_custom  \\\n",
       "0                  0  ...                  0                   0   \n",
       "1                  0  ...                  0                   0   \n",
       "2                  0  ...                  0                   0   \n",
       "3                  0  ...                  0                   0   \n",
       "4                  0  ...                  0                   0   \n",
       "\n",
       "   paint_color_green  paint_color_grey  paint_color_orange  \\\n",
       "0                  0                 0                   0   \n",
       "1                  0                 0                   0   \n",
       "2                  0                 0                   0   \n",
       "3                  0                 0                   0   \n",
       "4                  0                 0                   0   \n",
       "\n",
       "   paint_color_purple  paint_color_red  paint_color_silver  paint_color_white  \\\n",
       "0                   0                0                   0                  1   \n",
       "1                   0                0                   0                  1   \n",
       "2                   0                0                   1                  0   \n",
       "3                   0                0                   0                  1   \n",
       "4                   0                0                   1                  0   \n",
       "\n",
       "   paint_color_yellow  \n",
       "0                   0  \n",
       "1                   0  \n",
       "2                   0  \n",
       "3                   0  \n",
       "4                   0  \n",
       "\n",
       "[5 rows x 2672 columns]"
      ]
     },
     "execution_count": 5,
     "metadata": {},
     "output_type": "execute_result"
    }
   ],
   "source": [
    "F1 = pd.get_dummies(Final_data)\n",
    "F1.head()"
   ]
  },
  {
   "cell_type": "code",
   "execution_count": 61,
   "metadata": {
    "colab": {},
    "colab_type": "code",
    "id": "8jeLgxMm5CTN"
   },
   "outputs": [],
   "source": [
    "X = F1.drop('price',axis = 1)\n",
    "y = F1['price']"
   ]
  },
  {
   "cell_type": "code",
   "execution_count": 219,
   "metadata": {},
   "outputs": [],
   "source": [
    "# # scaling the inputs\n",
    "# scaler = MinMaxScaler().fit(X)\n",
    "# X = scaler.transform(X)"
   ]
  },
  {
   "cell_type": "code",
   "execution_count": 62,
   "metadata": {},
   "outputs": [
    {
     "data": {
      "text/plain": [
       "array([[    11,      8, 217743, ...,      0,      1,      0],\n",
       "       [    18,      8, 195000, ...,      0,      1,      0],\n",
       "       [     8,      8, 178000, ...,      1,      0,      0],\n",
       "       ...,\n",
       "       [    17,      6, 122953, ...,      0,      0,      0],\n",
       "       [    17,      6, 142779, ...,      0,      0,      0],\n",
       "       [    19,      8, 205000, ...,      1,      0,      0]], dtype=int64)"
      ]
     },
     "execution_count": 62,
     "metadata": {},
     "output_type": "execute_result"
    }
   ],
   "source": [
    "X = X.values\n",
    "X"
   ]
  },
  {
   "cell_type": "code",
   "execution_count": 63,
   "metadata": {},
   "outputs": [
    {
     "data": {
      "text/plain": [
       "array([ 9000,  6000, 37000, ...,  2950,  2350,  2200], dtype=int64)"
      ]
     },
     "execution_count": 63,
     "metadata": {},
     "output_type": "execute_result"
    }
   ],
   "source": [
    "y = y.values.ravel()\n",
    "y"
   ]
  },
  {
   "cell_type": "code",
   "execution_count": 64,
   "metadata": {},
   "outputs": [
    {
     "name": "stdout",
     "output_type": "stream",
     "text": [
      "(114180, 2671)\n",
      "(114180,)\n"
     ]
    }
   ],
   "source": [
    "print(X.shape)\n",
    "print(y.shape)"
   ]
  },
  {
   "cell_type": "code",
   "execution_count": 65,
   "metadata": {
    "colab": {},
    "colab_type": "code",
    "id": "qT5vk56UyDbO"
   },
   "outputs": [],
   "source": [
    "X_train,X_test,y_train,y_test = train_test_split(X,y, test_size = 0.33, random_state = 42)"
   ]
  },
  {
   "cell_type": "code",
   "execution_count": 66,
   "metadata": {
    "colab": {},
    "colab_type": "code",
    "id": "lIDuOXLM5CTQ",
    "scrolled": true
   },
   "outputs": [],
   "source": [
    "# Algorithms\n",
    "linreg = LinearRegression()\n",
    "lasso = Lasso()\n",
    "ridge = Ridge()\n",
    "Dtree = DecisionTreeRegressor()\n",
    "rfreg = RandomForestRegressor()"
   ]
  },
  {
   "cell_type": "code",
   "execution_count": 70,
   "metadata": {
    "colab": {},
    "colab_type": "code",
    "id": "yukbPauDbyIQ"
   },
   "outputs": [],
   "source": [
    "# parameters\n",
    "kfold = KFold(n_splits = 5)\n",
    "scoring = 'r2'\n",
    "algo_list = list([linreg,lasso,ridge,Dtree,rfreg])\n",
    "algo_name = list(['Linear regression','lasso','ridge','Decision tree','Random Forest'])"
   ]
  },
  {
   "cell_type": "code",
   "execution_count": 77,
   "metadata": {
    "colab": {},
    "colab_type": "code",
    "id": "-fOhNbk2BvRP"
   },
   "outputs": [],
   "source": [
    "# Buliding models on various algorithms\n",
    "def model_building(algo,X,y,fold,scoring):\n",
    "    algo_score = []\n",
    "    for i in algo:\n",
    "        score = cross_val_score(i, X, y, cv=fold, scoring=scoring).mean()\n",
    "        algo_score.append(score)\n",
    "    return algo_score"
   ]
  },
  {
   "cell_type": "code",
   "execution_count": 78,
   "metadata": {},
   "outputs": [
    {
     "name": "stdout",
     "output_type": "stream",
     "text": [
      "2020-06-20 00:23:41.807546\n"
     ]
    }
   ],
   "source": [
    "import datetime as dt\n",
    "x = dt.datetime.now()\n",
    "print(x)"
   ]
  },
  {
   "cell_type": "code",
   "execution_count": 79,
   "metadata": {
    "colab": {},
    "colab_type": "code",
    "id": "WiI9-8czDS_g"
   },
   "outputs": [
    {
     "name": "stderr",
     "output_type": "stream",
     "text": [
      "C:\\Users\\srt90\\Anaconda3\\lib\\site-packages\\sklearn\\model_selection\\_validation.py:515: DataConversionWarning: A column-vector y was passed when a 1d array was expected. Please change the shape of y to (n_samples,), for example using ravel().\n",
      "  estimator.fit(X_train, y_train, **fit_params)\n",
      "C:\\Users\\srt90\\Anaconda3\\lib\\site-packages\\sklearn\\model_selection\\_validation.py:515: DataConversionWarning: A column-vector y was passed when a 1d array was expected. Please change the shape of y to (n_samples,), for example using ravel().\n",
      "  estimator.fit(X_train, y_train, **fit_params)\n",
      "C:\\Users\\srt90\\Anaconda3\\lib\\site-packages\\sklearn\\model_selection\\_validation.py:515: DataConversionWarning: A column-vector y was passed when a 1d array was expected. Please change the shape of y to (n_samples,), for example using ravel().\n",
      "  estimator.fit(X_train, y_train, **fit_params)\n",
      "C:\\Users\\srt90\\Anaconda3\\lib\\site-packages\\sklearn\\model_selection\\_validation.py:515: DataConversionWarning: A column-vector y was passed when a 1d array was expected. Please change the shape of y to (n_samples,), for example using ravel().\n",
      "  estimator.fit(X_train, y_train, **fit_params)\n",
      "C:\\Users\\srt90\\Anaconda3\\lib\\site-packages\\sklearn\\model_selection\\_validation.py:515: DataConversionWarning: A column-vector y was passed when a 1d array was expected. Please change the shape of y to (n_samples,), for example using ravel().\n",
      "  estimator.fit(X_train, y_train, **fit_params)\n",
      "C:\\Users\\srt90\\Anaconda3\\lib\\site-packages\\sklearn\\ensemble\\_gb.py:1454: DataConversionWarning: A column-vector y was passed when a 1d array was expected. Please change the shape of y to (n_samples, ), for example using ravel().\n",
      "  y = column_or_1d(y, warn=True)\n",
      "C:\\Users\\srt90\\Anaconda3\\lib\\site-packages\\sklearn\\ensemble\\_gb.py:1454: DataConversionWarning: A column-vector y was passed when a 1d array was expected. Please change the shape of y to (n_samples, ), for example using ravel().\n",
      "  y = column_or_1d(y, warn=True)\n",
      "C:\\Users\\srt90\\Anaconda3\\lib\\site-packages\\sklearn\\ensemble\\_gb.py:1454: DataConversionWarning: A column-vector y was passed when a 1d array was expected. Please change the shape of y to (n_samples, ), for example using ravel().\n",
      "  y = column_or_1d(y, warn=True)\n",
      "C:\\Users\\srt90\\Anaconda3\\lib\\site-packages\\sklearn\\ensemble\\_gb.py:1454: DataConversionWarning: A column-vector y was passed when a 1d array was expected. Please change the shape of y to (n_samples, ), for example using ravel().\n",
      "  y = column_or_1d(y, warn=True)\n",
      "C:\\Users\\srt90\\Anaconda3\\lib\\site-packages\\sklearn\\ensemble\\_gb.py:1454: DataConversionWarning: A column-vector y was passed when a 1d array was expected. Please change the shape of y to (n_samples, ), for example using ravel().\n",
      "  y = column_or_1d(y, warn=True)\n"
     ]
    }
   ],
   "source": [
    "result = model_building(algo_list, X_train, y_train, kfold, scoring)"
   ]
  },
  {
   "cell_type": "code",
   "execution_count": 80,
   "metadata": {
    "colab": {},
    "colab_type": "code",
    "id": "o_LuOo_pG8Sv"
   },
   "outputs": [],
   "source": [
    "cv_score = dict(zip(algo_name,result))"
   ]
  },
  {
   "cell_type": "code",
   "execution_count": 82,
   "metadata": {
    "colab": {
     "base_uri": "https://localhost:8080/",
     "height": 101
    },
    "colab_type": "code",
    "id": "UilpY9refp2A",
    "outputId": "05ef8ee5-c6d9-418b-c0f3-6d7e502ea5c2",
    "scrolled": true
   },
   "outputs": [
    {
     "data": {
      "text/plain": [
       "{'Linear regression': -3.219153162094839e+20,\n",
       " 'lasso': 0.733601291024901,\n",
       " 'ridge': 0.7608259838484435,\n",
       " 'Decision tree': 0.7336919057925986,\n",
       " 'Random Forest': 0.8478481386440171,\n",
       " 'Gradient Boosting': 0.7983221032791225}"
      ]
     },
     "execution_count": 82,
     "metadata": {},
     "output_type": "execute_result"
    }
   ],
   "source": [
    "cv_score"
   ]
  },
  {
   "cell_type": "code",
   "execution_count": null,
   "metadata": {},
   "outputs": [],
   "source": []
  },
  {
   "cell_type": "markdown",
   "metadata": {},
   "source": [
    "# Hyperparameter tuning"
   ]
  },
  {
   "cell_type": "code",
   "execution_count": 84,
   "metadata": {},
   "outputs": [],
   "source": [
    "def RF_optimizer(bootstrap,min_samples_leaf,n_estimators):\n",
    "    algo_performance = []\n",
    "    m=RandomForestRegressor(bootstrap=bootstrap,min_samples_leaf=int(round(min_samples_leaf)),n_estimators=int(round(n_estimators)))\n",
    "    m.fit(X_train,y_train)\n",
    "    y_pred =m.predict(X_test)\n",
    "    r_sq = r2_score(y_test, y_pred)\n",
    "    algo_performance.append(r_sq)\n",
    "    return np.mean(algo_performance)"
   ]
  },
  {
   "cell_type": "code",
   "execution_count": 85,
   "metadata": {},
   "outputs": [],
   "source": [
    "def GBM_optimizer(learning_rate,max_depth,n_estimators,min_samples_split):\n",
    "    algo_performance = []\n",
    "    \n",
    "    m=GradientBoostingRegressor(learning_rate=learning_rate,max_depth=int(round(max_depth)),n_estimators=int(round(n_estimators)),min_samples_split=int(round(min_samples_split)))    \n",
    "    m.fit(X_train,y_train)\n",
    "    y_pred =m.predict(X_test)\n",
    "    r_sq = r2_score(y_test, y_pred)\n",
    "    algo_performance.append(r_sq)\n",
    "    return np.mean(algo_performance)"
   ]
  },
  {
   "cell_type": "code",
   "execution_count": 175,
   "metadata": {},
   "outputs": [],
   "source": [
    "def lasso_optimizer(alpha):\n",
    "    algo_performance = []\n",
    "    m=Lasso(alpha = alpha)\n",
    "    m.fit(X_train,y_train)\n",
    "    y_pred =m.predict(X_test)\n",
    "    r_sq = r2_score(y_test, y_pred)\n",
    "    algo_performance.append(r_sq)\n",
    "    return np.mean(algo_performance)"
   ]
  },
  {
   "cell_type": "code",
   "execution_count": 176,
   "metadata": {},
   "outputs": [],
   "source": [
    "def ridge_optimizer(alpha):\n",
    "    algo_performance = []\n",
    "    m=Ridge(alpha = alpha)\n",
    "    m.fit(X_train,y_train)\n",
    "    y_pred =m.predict(X_test)\n",
    "    r_sq = r2_score(y_test, y_pred)\n",
    "    algo_performance.append(r_sq)\n",
    "    return np.mean(algo_performance)"
   ]
  },
  {
   "cell_type": "code",
   "execution_count": 86,
   "metadata": {},
   "outputs": [],
   "source": [
    "GBM_bounds={'learning_rate':(0.08,0.12),'max_depth':(1,5),'n_estimators':(70,130),'min_samples_split':(2,4)}\n",
    "RF_bounds={'bootstrap':(True,False),'min_samples_leaf':(1,20),'n_estimators':(100,200)}"
   ]
  },
  {
   "cell_type": "code",
   "execution_count": 172,
   "metadata": {},
   "outputs": [],
   "source": [
    "lasso_params = {'alpha':(0.005, 0.06)}\n",
    "ridge_params = {'alpha':(550,650)}"
   ]
  },
  {
   "cell_type": "code",
   "execution_count": 173,
   "metadata": {},
   "outputs": [],
   "source": [
    "optimizers=[RF_optimizer,GBM_optimizer]\n",
    "bounds=[RF_bounds,GBM_bounds]"
   ]
  },
  {
   "cell_type": "code",
   "execution_count": 174,
   "metadata": {},
   "outputs": [],
   "source": [
    "optimizers1=[lasso_optimizer,ridge_optimizer]\n",
    "bounds1=[lasso_params,ridge_params]"
   ]
  },
  {
   "cell_type": "code",
   "execution_count": 96,
   "metadata": {},
   "outputs": [
    {
     "name": "stdout",
     "output_type": "stream",
     "text": [
      "2020-06-20 03:23:22.127008\n"
     ]
    }
   ],
   "source": [
    "import datetime as dt\n",
    "x = dt.datetime.now()\n",
    "print(x)"
   ]
  },
  {
   "cell_type": "code",
   "execution_count": 97,
   "metadata": {
    "collapsed": true
   },
   "outputs": [
    {
     "name": "stdout",
     "output_type": "stream",
     "text": [
      "RF_optimizer\n",
      "|   iter    |  target   | bootstrap | min_sa... | n_esti... |\n",
      "-------------------------------------------------------------\n",
      "| \u001b[0m 1       \u001b[0m | \u001b[0m 0.8207  \u001b[0m | \u001b[0m 0.583   \u001b[0m | \u001b[0m 14.69   \u001b[0m | \u001b[0m 100.0   \u001b[0m |\n",
      "| \u001b[95m 2       \u001b[0m | \u001b[95m 0.8409  \u001b[0m | \u001b[95m 0.6977  \u001b[0m | \u001b[95m 3.788   \u001b[0m | \u001b[95m 109.2   \u001b[0m |\n",
      "| \u001b[0m 3       \u001b[0m | \u001b[0m 0.8308  \u001b[0m | \u001b[0m 0.8137  \u001b[0m | \u001b[0m 7.566   \u001b[0m | \u001b[0m 139.7   \u001b[0m |\n",
      "| \u001b[0m 4       \u001b[0m | \u001b[0m 0.8289  \u001b[0m | \u001b[0m 0.4612  \u001b[0m | \u001b[0m 8.965   \u001b[0m | \u001b[0m 168.5   \u001b[0m |\n",
      "| \u001b[0m 5       \u001b[0m | \u001b[0m 0.8174  \u001b[0m | \u001b[0m 0.7955  \u001b[0m | \u001b[0m 17.68   \u001b[0m | \u001b[0m 102.7   \u001b[0m |\n",
      "| \u001b[0m 6       \u001b[0m | \u001b[0m 0.7653  \u001b[0m | \u001b[0m 0.0     \u001b[0m | \u001b[0m 1.17    \u001b[0m | \u001b[0m 198.7   \u001b[0m |\n",
      "| \u001b[0m 7       \u001b[0m | \u001b[0m 0.7901  \u001b[0m | \u001b[0m 0.0     \u001b[0m | \u001b[0m 19.89   \u001b[0m | \u001b[0m 196.6   \u001b[0m |\n",
      "| \u001b[0m 8       \u001b[0m | \u001b[0m 0.7651  \u001b[0m | \u001b[0m 0.0     \u001b[0m | \u001b[0m 1.082   \u001b[0m | \u001b[0m 101.1   \u001b[0m |\n",
      "| \u001b[0m 9       \u001b[0m | \u001b[0m 0.7901  \u001b[0m | \u001b[0m 0.0     \u001b[0m | \u001b[0m 19.89   \u001b[0m | \u001b[0m 154.5   \u001b[0m |\n",
      "| \u001b[0m 10      \u001b[0m | \u001b[0m 0.7653  \u001b[0m | \u001b[0m 0.0     \u001b[0m | \u001b[0m 1.02    \u001b[0m | \u001b[0m 126.0   \u001b[0m |\n",
      "=============================================================\n",
      "GBM_optimizer\n",
      "|   iter    |  target   | learni... | max_depth | min_sa... | n_esti... |\n",
      "-------------------------------------------------------------------------\n",
      "| \u001b[0m 1       \u001b[0m | \u001b[0m 0.8126  \u001b[0m | \u001b[0m 0.09668 \u001b[0m | \u001b[0m 3.881   \u001b[0m | \u001b[0m 2.0     \u001b[0m | \u001b[0m 88.14   \u001b[0m |\n",
      "| \u001b[0m 2       \u001b[0m | \u001b[0m 0.655   \u001b[0m | \u001b[0m 0.08587 \u001b[0m | \u001b[0m 1.369   \u001b[0m | \u001b[0m 2.373   \u001b[0m | \u001b[0m 90.73   \u001b[0m |\n",
      "| \u001b[0m 3       \u001b[0m | \u001b[0m 0.8014  \u001b[0m | \u001b[0m 0.09587 \u001b[0m | \u001b[0m 3.155   \u001b[0m | \u001b[0m 2.838   \u001b[0m | \u001b[0m 111.1   \u001b[0m |\n",
      "| \u001b[95m 4       \u001b[0m | \u001b[95m 0.8282  \u001b[0m | \u001b[95m 0.08818 \u001b[0m | \u001b[95m 4.512   \u001b[0m | \u001b[95m 2.055   \u001b[0m | \u001b[95m 110.2   \u001b[0m |\n",
      "| \u001b[0m 5       \u001b[0m | \u001b[0m 0.7928  \u001b[0m | \u001b[0m 0.09669 \u001b[0m | \u001b[0m 3.235   \u001b[0m | \u001b[0m 2.281   \u001b[0m | \u001b[0m 81.89   \u001b[0m |\n",
      "| \u001b[95m 6       \u001b[0m | \u001b[95m 0.836   \u001b[0m | \u001b[95m 0.12    \u001b[0m | \u001b[95m 5.0     \u001b[0m | \u001b[95m 2.0     \u001b[0m | \u001b[95m 130.0   \u001b[0m |\n",
      "| \u001b[0m 7       \u001b[0m | \u001b[0m 0.8252  \u001b[0m | \u001b[0m 0.12    \u001b[0m | \u001b[0m 5.0     \u001b[0m | \u001b[0m 4.0     \u001b[0m | \u001b[0m 70.0    \u001b[0m |\n",
      "| \u001b[0m 8       \u001b[0m | \u001b[0m 0.8279  \u001b[0m | \u001b[0m 0.08    \u001b[0m | \u001b[0m 5.0     \u001b[0m | \u001b[0m 4.0     \u001b[0m | \u001b[0m 120.8   \u001b[0m |\n",
      "| \u001b[0m 9       \u001b[0m | \u001b[0m 0.8294  \u001b[0m | \u001b[0m 0.12    \u001b[0m | \u001b[0m 5.0     \u001b[0m | \u001b[0m 4.0     \u001b[0m | \u001b[0m 83.88   \u001b[0m |\n",
      "| \u001b[0m 10      \u001b[0m | \u001b[0m 0.6752  \u001b[0m | \u001b[0m 0.08    \u001b[0m | \u001b[0m 1.0     \u001b[0m | \u001b[0m 2.0     \u001b[0m | \u001b[0m 125.5   \u001b[0m |\n",
      "=========================================================================\n"
     ]
    },
    {
     "data": {
      "text/plain": [
       "{<function __main__.RF_optimizer(bootstrap, min_samples_leaf, n_estimators)>: {'target': 0.8408675391975569,\n",
       "  'params': {'bootstrap': 0.6976674273681602,\n",
       "   'min_samples_leaf': 3.7883619255251477,\n",
       "   'n_estimators': 109.23385947687979}},\n",
       " <function __main__.GBM_optimizer(learning_rate, max_depth, n_estimators, min_samples_split)>: {'target': 0.8359832126492405,\n",
       "  'params': {'learning_rate': 0.12,\n",
       "   'max_depth': 5.0,\n",
       "   'min_samples_split': 2.0,\n",
       "   'n_estimators': 130.0}}}"
      ]
     },
     "execution_count": 97,
     "metadata": {},
     "output_type": "execute_result"
    }
   ],
   "source": [
    "def tuning(optimizers,bounds):\n",
    "    hyperparameter={}\n",
    "    for i in range(len(optimizers)):\n",
    "        print(optimizers[i].__name__)\n",
    "        temp=BayesianOptimization(f=optimizers[i],pbounds=bounds[i],random_state=1)\n",
    "        temp.maximize(n_iter= 5)\n",
    "        hyperparameter[optimizers[i]]=temp.max\n",
    "    return hyperparameter\n",
    "\n",
    "tuning(optimizers,bounds)"
   ]
  },
  {
   "cell_type": "code",
   "execution_count": 194,
   "metadata": {},
   "outputs": [
    {
     "name": "stdout",
     "output_type": "stream",
     "text": [
      "2020-06-20 16:58:19.581883\n"
     ]
    }
   ],
   "source": [
    "import datetime as dt\n",
    "x = dt.datetime.now()\n",
    "print(x)"
   ]
  },
  {
   "cell_type": "code",
   "execution_count": 195,
   "metadata": {},
   "outputs": [],
   "source": [
    "def tuning1(optimizers,bounds):\n",
    "    hyperparameter={}\n",
    "    for i in range(len(optimizers)):\n",
    "        print(optimizers[i].__name__)\n",
    "        temp=BayesianOptimization(f=optimizers[i],pbounds=bounds[i],random_state=1)\n",
    "        temp.maximize(n_iter= 15)\n",
    "        hyperparameter[optimizers[i]]=temp.max\n",
    "    return hyperparameter"
   ]
  },
  {
   "cell_type": "code",
   "execution_count": 196,
   "metadata": {
    "collapsed": true
   },
   "outputs": [
    {
     "name": "stdout",
     "output_type": "stream",
     "text": [
      "lasso_optimizer\n",
      "|   iter    |  target   |   alpha   |\n",
      "-------------------------------------\n"
     ]
    },
    {
     "name": "stderr",
     "output_type": "stream",
     "text": [
      "C:\\Users\\srt90\\Anaconda3\\lib\\site-packages\\sklearn\\linear_model\\_coordinate_descent.py:476: ConvergenceWarning: Objective did not converge. You might want to increase the number of iterations. Duality gap: 395783758099.6956, tolerance: 558780486.997039\n",
      "  positive)\n"
     ]
    },
    {
     "name": "stdout",
     "output_type": "stream",
     "text": [
      "| \u001b[0m 1       \u001b[0m | \u001b[0m 0.7618  \u001b[0m | \u001b[0m 0.02794 \u001b[0m |\n"
     ]
    },
    {
     "name": "stderr",
     "output_type": "stream",
     "text": [
      "C:\\Users\\srt90\\Anaconda3\\lib\\site-packages\\sklearn\\linear_model\\_coordinate_descent.py:476: ConvergenceWarning: Objective did not converge. You might want to increase the number of iterations. Duality gap: 252297678504.8816, tolerance: 558780486.997039\n",
      "  positive)\n"
     ]
    },
    {
     "name": "stdout",
     "output_type": "stream",
     "text": [
      "| \u001b[0m 2       \u001b[0m | \u001b[0m 0.7617  \u001b[0m | \u001b[0m 0.04462 \u001b[0m |\n"
     ]
    },
    {
     "name": "stderr",
     "output_type": "stream",
     "text": [
      "C:\\Users\\srt90\\Anaconda3\\lib\\site-packages\\sklearn\\linear_model\\_coordinate_descent.py:476: ConvergenceWarning: Objective did not converge. You might want to increase the number of iterations. Duality gap: 593628864988.8098, tolerance: 558780486.997039\n",
      "  positive)\n"
     ]
    },
    {
     "name": "stdout",
     "output_type": "stream",
     "text": [
      "| \u001b[0m 3       \u001b[0m | \u001b[0m 0.7613  \u001b[0m | \u001b[0m 0.005006\u001b[0m |\n"
     ]
    },
    {
     "name": "stderr",
     "output_type": "stream",
     "text": [
      "C:\\Users\\srt90\\Anaconda3\\lib\\site-packages\\sklearn\\linear_model\\_coordinate_descent.py:476: ConvergenceWarning: Objective did not converge. You might want to increase the number of iterations. Duality gap: 460006129352.1068, tolerance: 558780486.997039\n",
      "  positive)\n"
     ]
    },
    {
     "name": "stdout",
     "output_type": "stream",
     "text": [
      "| \u001b[0m 4       \u001b[0m | \u001b[0m 0.7617  \u001b[0m | \u001b[0m 0.02163 \u001b[0m |\n"
     ]
    },
    {
     "name": "stderr",
     "output_type": "stream",
     "text": [
      "C:\\Users\\srt90\\Anaconda3\\lib\\site-packages\\sklearn\\linear_model\\_coordinate_descent.py:476: ConvergenceWarning: Objective did not converge. You might want to increase the number of iterations. Duality gap: 534920623966.93726, tolerance: 558780486.997039\n",
      "  positive)\n"
     ]
    },
    {
     "name": "stdout",
     "output_type": "stream",
     "text": [
      "| \u001b[0m 5       \u001b[0m | \u001b[0m 0.7616  \u001b[0m | \u001b[0m 0.01307 \u001b[0m |\n"
     ]
    },
    {
     "name": "stderr",
     "output_type": "stream",
     "text": [
      "C:\\Users\\srt90\\Anaconda3\\lib\\site-packages\\sklearn\\linear_model\\_coordinate_descent.py:476: ConvergenceWarning: Objective did not converge. You might want to increase the number of iterations. Duality gap: 121137689286.48755, tolerance: 558780486.997039\n",
      "  positive)\n"
     ]
    },
    {
     "name": "stdout",
     "output_type": "stream",
     "text": [
      "| \u001b[0m 6       \u001b[0m | \u001b[0m 0.7614  \u001b[0m | \u001b[0m 0.05846 \u001b[0m |\n"
     ]
    },
    {
     "name": "stderr",
     "output_type": "stream",
     "text": [
      "C:\\Users\\srt90\\Anaconda3\\lib\\site-packages\\sklearn\\linear_model\\_coordinate_descent.py:476: ConvergenceWarning: Objective did not converge. You might want to increase the number of iterations. Duality gap: 519419341171.1446, tolerance: 558780486.997039\n",
      "  positive)\n"
     ]
    },
    {
     "name": "stdout",
     "output_type": "stream",
     "text": [
      "| \u001b[0m 7       \u001b[0m | \u001b[0m 0.7616  \u001b[0m | \u001b[0m 0.01497 \u001b[0m |\n"
     ]
    },
    {
     "name": "stderr",
     "output_type": "stream",
     "text": [
      "C:\\Users\\srt90\\Anaconda3\\lib\\site-packages\\sklearn\\linear_model\\_coordinate_descent.py:476: ConvergenceWarning: Objective did not converge. You might want to increase the number of iterations. Duality gap: 121300006873.93298, tolerance: 558780486.997039\n",
      "  positive)\n"
     ]
    },
    {
     "name": "stdout",
     "output_type": "stream",
     "text": [
      "| \u001b[0m 8       \u001b[0m | \u001b[0m 0.7614  \u001b[0m | \u001b[0m 0.05828 \u001b[0m |\n"
     ]
    },
    {
     "name": "stderr",
     "output_type": "stream",
     "text": [
      "C:\\Users\\srt90\\Anaconda3\\lib\\site-packages\\sklearn\\linear_model\\_coordinate_descent.py:476: ConvergenceWarning: Objective did not converge. You might want to increase the number of iterations. Duality gap: 424431455356.2317, tolerance: 558780486.997039\n",
      "  positive)\n"
     ]
    },
    {
     "name": "stdout",
     "output_type": "stream",
     "text": [
      "| \u001b[0m 9       \u001b[0m | \u001b[0m 0.7618  \u001b[0m | \u001b[0m 0.02522 \u001b[0m |\n"
     ]
    },
    {
     "name": "stderr",
     "output_type": "stream",
     "text": [
      "C:\\Users\\srt90\\Anaconda3\\lib\\site-packages\\sklearn\\linear_model\\_coordinate_descent.py:476: ConvergenceWarning: Objective did not converge. You might want to increase the number of iterations. Duality gap: 165762137652.48108, tolerance: 558780486.997039\n",
      "  positive)\n"
     ]
    },
    {
     "name": "stdout",
     "output_type": "stream",
     "text": [
      "| \u001b[0m 10      \u001b[0m | \u001b[0m 0.7615  \u001b[0m | \u001b[0m 0.05255 \u001b[0m |\n"
     ]
    },
    {
     "name": "stderr",
     "output_type": "stream",
     "text": [
      "C:\\Users\\srt90\\Anaconda3\\lib\\site-packages\\sklearn\\linear_model\\_coordinate_descent.py:476: ConvergenceWarning: Objective did not converge. You might want to increase the number of iterations. Duality gap: 573610824535.3021, tolerance: 558780486.997039\n",
      "  positive)\n"
     ]
    },
    {
     "name": "stdout",
     "output_type": "stream",
     "text": [
      "| \u001b[0m 11      \u001b[0m | \u001b[0m 0.7614  \u001b[0m | \u001b[0m 0.00789 \u001b[0m |\n"
     ]
    },
    {
     "name": "stderr",
     "output_type": "stream",
     "text": [
      "C:\\Users\\srt90\\Anaconda3\\lib\\site-packages\\sklearn\\linear_model\\_coordinate_descent.py:476: ConvergenceWarning: Objective did not converge. You might want to increase the number of iterations. Duality gap: 559471573371.7971, tolerance: 558780486.997039\n",
      "  positive)\n"
     ]
    },
    {
     "name": "stdout",
     "output_type": "stream",
     "text": [
      "| \u001b[0m 12      \u001b[0m | \u001b[0m 0.7615  \u001b[0m | \u001b[0m 0.009907\u001b[0m |\n"
     ]
    },
    {
     "name": "stderr",
     "output_type": "stream",
     "text": [
      "C:\\Users\\srt90\\Anaconda3\\lib\\site-packages\\sklearn\\linear_model\\_coordinate_descent.py:476: ConvergenceWarning: Objective did not converge. You might want to increase the number of iterations. Duality gap: 423780196979.68835, tolerance: 558780486.997039\n",
      "  positive)\n"
     ]
    },
    {
     "name": "stdout",
     "output_type": "stream",
     "text": [
      "| \u001b[0m 13      \u001b[0m | \u001b[0m 0.7618  \u001b[0m | \u001b[0m 0.02529 \u001b[0m |\n"
     ]
    },
    {
     "name": "stderr",
     "output_type": "stream",
     "text": [
      "C:\\Users\\srt90\\Anaconda3\\lib\\site-packages\\sklearn\\linear_model\\_coordinate_descent.py:476: ConvergenceWarning: Objective did not converge. You might want to increase the number of iterations. Duality gap: 473681736052.15546, tolerance: 558780486.997039\n",
      "  positive)\n"
     ]
    },
    {
     "name": "stdout",
     "output_type": "stream",
     "text": [
      "| \u001b[0m 14      \u001b[0m | \u001b[0m 0.7617  \u001b[0m | \u001b[0m 0.02017 \u001b[0m |\n"
     ]
    },
    {
     "name": "stderr",
     "output_type": "stream",
     "text": [
      "C:\\Users\\srt90\\Anaconda3\\lib\\site-packages\\sklearn\\linear_model\\_coordinate_descent.py:476: ConvergenceWarning: Objective did not converge. You might want to increase the number of iterations. Duality gap: 186734336891.59802, tolerance: 558780486.997039\n",
      "  positive)\n"
     ]
    },
    {
     "name": "stdout",
     "output_type": "stream",
     "text": [
      "| \u001b[0m 15      \u001b[0m | \u001b[0m 0.7615  \u001b[0m | \u001b[0m 0.05067 \u001b[0m |\n"
     ]
    },
    {
     "name": "stderr",
     "output_type": "stream",
     "text": [
      "C:\\Users\\srt90\\Anaconda3\\lib\\site-packages\\sklearn\\linear_model\\_coordinate_descent.py:476: ConvergenceWarning: Objective did not converge. You might want to increase the number of iterations. Duality gap: 343541989431.61017, tolerance: 558780486.997039\n",
      "  positive)\n"
     ]
    },
    {
     "name": "stdout",
     "output_type": "stream",
     "text": [
      "| \u001b[95m 16      \u001b[0m | \u001b[95m 0.7618  \u001b[0m | \u001b[95m 0.03253 \u001b[0m |\n"
     ]
    },
    {
     "name": "stderr",
     "output_type": "stream",
     "text": [
      "C:\\Users\\srt90\\Anaconda3\\lib\\site-packages\\sklearn\\linear_model\\_coordinate_descent.py:476: ConvergenceWarning: Objective did not converge. You might want to increase the number of iterations. Duality gap: 147286158771.23132, tolerance: 558780486.997039\n",
      "  positive)\n"
     ]
    },
    {
     "name": "stdout",
     "output_type": "stream",
     "text": [
      "| \u001b[0m 17      \u001b[0m | \u001b[0m 0.7615  \u001b[0m | \u001b[0m 0.0542  \u001b[0m |\n"
     ]
    },
    {
     "name": "stderr",
     "output_type": "stream",
     "text": [
      "C:\\Users\\srt90\\Anaconda3\\lib\\site-packages\\sklearn\\linear_model\\_coordinate_descent.py:476: ConvergenceWarning: Objective did not converge. You might want to increase the number of iterations. Duality gap: 414410118869.2088, tolerance: 558780486.997039\n",
      "  positive)\n"
     ]
    },
    {
     "name": "stdout",
     "output_type": "stream",
     "text": [
      "| \u001b[0m 18      \u001b[0m | \u001b[0m 0.7618  \u001b[0m | \u001b[0m 0.02619 \u001b[0m |\n"
     ]
    },
    {
     "name": "stderr",
     "output_type": "stream",
     "text": [
      "C:\\Users\\srt90\\Anaconda3\\lib\\site-packages\\sklearn\\linear_model\\_coordinate_descent.py:476: ConvergenceWarning: Objective did not converge. You might want to increase the number of iterations. Duality gap: 150769817275.61194, tolerance: 558780486.997039\n",
      "  positive)\n"
     ]
    },
    {
     "name": "stdout",
     "output_type": "stream",
     "text": [
      "| \u001b[0m 19      \u001b[0m | \u001b[0m 0.7615  \u001b[0m | \u001b[0m 0.05389 \u001b[0m |\n"
     ]
    },
    {
     "name": "stderr",
     "output_type": "stream",
     "text": [
      "C:\\Users\\srt90\\Anaconda3\\lib\\site-packages\\sklearn\\linear_model\\_coordinate_descent.py:476: ConvergenceWarning: Objective did not converge. You might want to increase the number of iterations. Duality gap: 401535700237.28076, tolerance: 558780486.997039\n",
      "  positive)\n"
     ]
    },
    {
     "name": "stdout",
     "output_type": "stream",
     "text": [
      "| \u001b[0m 20      \u001b[0m | \u001b[0m 0.7618  \u001b[0m | \u001b[0m 0.0274  \u001b[0m |\n",
      "=====================================\n",
      "ridge_optimizer\n",
      "|   iter    |  target   |   alpha   |\n",
      "-------------------------------------\n",
      "| \u001b[0m 1       \u001b[0m | \u001b[0m 0.6999  \u001b[0m | \u001b[0m 591.7   \u001b[0m |\n",
      "| \u001b[0m 2       \u001b[0m | \u001b[0m 0.6985  \u001b[0m | \u001b[0m 622.0   \u001b[0m |\n",
      "| \u001b[95m 3       \u001b[0m | \u001b[95m 0.7019  \u001b[0m | \u001b[95m 550.0   \u001b[0m |\n",
      "| \u001b[0m 4       \u001b[0m | \u001b[0m 0.7005  \u001b[0m | \u001b[0m 580.2   \u001b[0m |\n",
      "| \u001b[0m 5       \u001b[0m | \u001b[0m 0.7012  \u001b[0m | \u001b[0m 564.7   \u001b[0m |\n",
      "| \u001b[95m 6       \u001b[0m | \u001b[95m 0.7019  \u001b[0m | \u001b[95m 550.0   \u001b[0m |\n",
      "| \u001b[95m 7       \u001b[0m | \u001b[95m 0.7019  \u001b[0m | \u001b[95m 550.0   \u001b[0m |\n",
      "| \u001b[0m 8       \u001b[0m | \u001b[0m 0.7019  \u001b[0m | \u001b[0m 550.0   \u001b[0m |\n",
      "| \u001b[95m 9       \u001b[0m | \u001b[95m 0.7019  \u001b[0m | \u001b[95m 550.0   \u001b[0m |\n",
      "| \u001b[95m 10      \u001b[0m | \u001b[95m 0.7019  \u001b[0m | \u001b[95m 550.0   \u001b[0m |\n",
      "| \u001b[0m 11      \u001b[0m | \u001b[0m 0.7019  \u001b[0m | \u001b[0m 550.0   \u001b[0m |\n",
      "| \u001b[0m 12      \u001b[0m | \u001b[0m 0.7019  \u001b[0m | \u001b[0m 550.0   \u001b[0m |\n",
      "| \u001b[0m 13      \u001b[0m | \u001b[0m 0.7019  \u001b[0m | \u001b[0m 550.0   \u001b[0m |\n",
      "| \u001b[0m 14      \u001b[0m | \u001b[0m 0.7019  \u001b[0m | \u001b[0m 550.0   \u001b[0m |\n",
      "| \u001b[95m 15      \u001b[0m | \u001b[95m 0.7019  \u001b[0m | \u001b[95m 550.0   \u001b[0m |\n",
      "| \u001b[0m 16      \u001b[0m | \u001b[0m 0.7019  \u001b[0m | \u001b[0m 550.0   \u001b[0m |\n",
      "| \u001b[0m 17      \u001b[0m | \u001b[0m 0.7019  \u001b[0m | \u001b[0m 550.0   \u001b[0m |\n",
      "| \u001b[0m 18      \u001b[0m | \u001b[0m 0.7019  \u001b[0m | \u001b[0m 550.0   \u001b[0m |\n",
      "| \u001b[0m 19      \u001b[0m | \u001b[0m 0.7019  \u001b[0m | \u001b[0m 550.0   \u001b[0m |\n",
      "| \u001b[0m 20      \u001b[0m | \u001b[0m 0.7019  \u001b[0m | \u001b[0m 550.0   \u001b[0m |\n",
      "=====================================\n"
     ]
    },
    {
     "data": {
      "text/plain": [
       "{<function __main__.lasso_optimizer(alpha)>: {'target': 0.7617667842329148,\n",
       "  'params': {'alpha': 0.032534263696615134}},\n",
       " <function __main__.ridge_optimizer(alpha)>: {'target': 0.7019470216905476,\n",
       "  'params': {'alpha': 550.0014944002314}}}"
      ]
     },
     "execution_count": 196,
     "metadata": {},
     "output_type": "execute_result"
    }
   ],
   "source": [
    "tuning1(optimizers1,bounds1)"
   ]
  },
  {
   "cell_type": "code",
   "execution_count": 197,
   "metadata": {},
   "outputs": [
    {
     "name": "stdout",
     "output_type": "stream",
     "text": [
      "2020-06-20 18:46:12.477195\n"
     ]
    }
   ],
   "source": [
    "import datetime as dt\n",
    "x = dt.datetime.now()\n",
    "print(x)"
   ]
  },
  {
   "cell_type": "markdown",
   "metadata": {},
   "source": [
    "# Testing"
   ]
  },
  {
   "cell_type": "code",
   "execution_count": 67,
   "metadata": {
    "colab": {},
    "colab_type": "code",
    "id": "rr5ycdKJ_xr9"
   },
   "outputs": [],
   "source": [
    "def prediction(algo,X_train, y_train, X_test, y_test):\n",
    "    r2_score1 = []\n",
    "    for i in algo:\n",
    "        reg = i.fit(X_train, y_train)\n",
    "        y_pred = reg.predict(X_test)\n",
    "        r2 = r2_score(y_test, y_pred)\n",
    "        r2_score1.append(r2)\n",
    "    return r2_score1"
   ]
  },
  {
   "cell_type": "code",
   "execution_count": 68,
   "metadata": {},
   "outputs": [
    {
     "name": "stdout",
     "output_type": "stream",
     "text": [
      "2020-06-25 20:59:49.276718\n"
     ]
    }
   ],
   "source": [
    "import datetime as dt\n",
    "x = dt.datetime.now()\n",
    "print(x)"
   ]
  },
  {
   "cell_type": "code",
   "execution_count": 71,
   "metadata": {
    "colab": {},
    "colab_type": "code",
    "id": "iu9r_em3_xxK"
   },
   "outputs": [],
   "source": [
    "p = prediction(algo_list, X_train, y_train, X_test, y_test) "
   ]
  },
  {
   "cell_type": "code",
   "execution_count": 72,
   "metadata": {
    "colab": {},
    "colab_type": "code",
    "id": "4S2lXPi__x3y"
   },
   "outputs": [],
   "source": [
    "test_score = dict(zip(algo_name,p))                                                                                            "
   ]
  },
  {
   "cell_type": "code",
   "execution_count": 186,
   "metadata": {},
   "outputs": [
    {
     "data": {
      "text/plain": [
       "{'Linear regression': 0.70178489443788,\n",
       " 'lasso': -4.4043710456520557e-07,\n",
       " 'ridge': 0.7037082480463973,\n",
       " 'Decision tree': 0.5469651512487619,\n",
       " 'Random Forest': 0.7274975570693594,\n",
       " 'Gradient Boosting': 0.703936504767724}"
      ]
     },
     "execution_count": 186,
     "metadata": {},
     "output_type": "execute_result"
    }
   ],
   "source": [
    "#after removing imbalanced columns\n",
    "test_score"
   ]
  },
  {
   "cell_type": "code",
   "execution_count": null,
   "metadata": {},
   "outputs": [],
   "source": []
  },
  {
   "cell_type": "code",
   "execution_count": 76,
   "metadata": {},
   "outputs": [
    {
     "data": {
      "text/plain": [
       "RandomForestRegressor(bootstrap=True, ccp_alpha=0.0, criterion='mse',\n",
       "                      max_depth=None, max_features='auto', max_leaf_nodes=None,\n",
       "                      max_samples=None, min_impurity_decrease=0.0,\n",
       "                      min_impurity_split=None, min_samples_leaf=1,\n",
       "                      min_samples_split=2, min_weight_fraction_leaf=0.0,\n",
       "                      n_estimators=100, n_jobs=None, oob_score=False,\n",
       "                      random_state=None, verbose=0, warm_start=False)"
      ]
     },
     "execution_count": 76,
     "metadata": {},
     "output_type": "execute_result"
    }
   ],
   "source": [
    "#final model with Random forest.\n",
    "rfreg.fit(X, y)"
   ]
  },
  {
   "cell_type": "code",
   "execution_count": 77,
   "metadata": {},
   "outputs": [
    {
     "data": {
      "text/plain": [
       "Ridge(alpha=1.0, copy_X=True, fit_intercept=True, max_iter=None,\n",
       "      normalize=False, random_state=None, solver='auto', tol=0.001)"
      ]
     },
     "execution_count": 77,
     "metadata": {},
     "output_type": "execute_result"
    }
   ],
   "source": [
    "# final model with ridge regression\n",
    "ridge.fit(X, y)"
   ]
  },
  {
   "cell_type": "code",
   "execution_count": 78,
   "metadata": {},
   "outputs": [
    {
     "data": {
      "text/plain": [
       "Lasso(alpha=1.0, copy_X=True, fit_intercept=True, max_iter=1000,\n",
       "      normalize=False, positive=False, precompute=False, random_state=None,\n",
       "      selection='cyclic', tol=0.0001, warm_start=False)"
      ]
     },
     "execution_count": 78,
     "metadata": {},
     "output_type": "execute_result"
    }
   ],
   "source": [
    "lasso.fit(X,y)"
   ]
  },
  {
   "cell_type": "code",
   "execution_count": 80,
   "metadata": {},
   "outputs": [
    {
     "name": "stdout",
     "output_type": "stream",
     "text": [
      "2020-06-25 21:47:43.834625\n"
     ]
    }
   ],
   "source": [
    "import datetime as dt\n",
    "x = dt.datetime.now()\n",
    "print(x)"
   ]
  },
  {
   "cell_type": "markdown",
   "metadata": {},
   "source": [
    "# Prediction of new data"
   ]
  },
  {
   "cell_type": "code",
   "execution_count": 6,
   "metadata": {},
   "outputs": [],
   "source": [
    "X1 = F1.drop('price',axis = 1)"
   ]
  },
  {
   "cell_type": "code",
   "execution_count": 7,
   "metadata": {},
   "outputs": [
    {
     "data": {
      "text/plain": [
       "Index(['age', 'cylinders', 'mileage', 'word_len', 'manufacturer_Rolls-Royce',\n",
       "       'manufacturer_Tesla', 'manufacturer_acura', 'manufacturer_alfa-romeo',\n",
       "       'manufacturer_audi', 'manufacturer_bmw',\n",
       "       ...\n",
       "       'paint_color_brown', 'paint_color_custom', 'paint_color_green',\n",
       "       'paint_color_grey', 'paint_color_orange', 'paint_color_purple',\n",
       "       'paint_color_red', 'paint_color_silver', 'paint_color_white',\n",
       "       'paint_color_yellow'],\n",
       "      dtype='object', length=2671)"
      ]
     },
     "execution_count": 7,
     "metadata": {},
     "output_type": "execute_result"
    }
   ],
   "source": [
    "X1.columns"
   ]
  },
  {
   "cell_type": "code",
   "execution_count": 8,
   "metadata": {},
   "outputs": [],
   "source": [
    "cols = []\n",
    "\n",
    "for i in range(len(X1.columns)):\n",
    "    if i < 4:\n",
    "        cols.append(X1.columns[i])\n",
    "    elif (i > 2629 and i < 2636):\n",
    "        col = X1.columns[i].split('_')[2]\n",
    "        cols.append(col)\n",
    "    else:\n",
    "        col = X1.columns[i].split('_')[1]\n",
    "        cols.append(col)"
   ]
  },
  {
   "cell_type": "code",
   "execution_count": 138,
   "metadata": {},
   "outputs": [],
   "source": [
    "# predicting the price on new data\n",
    "def predict_price(cat_cols,numeric_cols,Model):    \n",
    "    \n",
    "    x = np.zeros(len(X1.columns))\n",
    "    for i in range(len(numeric_cols)):\n",
    "        x[i] = numeric_cols[i]\n",
    "    for i in cat_cols:\n",
    "        if i in X1.columns:\n",
    "            loc_index = np.where(X1.columns==i)[0][0]\n",
    "            x[loc_index] = 1\n",
    "        else:\n",
    "            pass\n",
    "    \n",
    "    return Model.predict([x])[0]"
   ]
  },
  {
   "cell_type": "code",
   "execution_count": 139,
   "metadata": {},
   "outputs": [],
   "source": [
    "# cat_cols = [car manufacturer name, model name of car,drive,fuel,transmission,size,type,paint_color ]\n",
    "cat_cols = ['manufacturer_ford','model_f-150','drive_4wd','fuel_gas','condition_new','title_status_clean','transmission_automatic','type_truck','size_full-size','paint_color_blue']\n",
    "# numeric_cols = ['age', 'cylinders', 'mileage']\n",
    "numeric_cols = [25,8,101025]"
   ]
  },
  {
   "cell_type": "code",
   "execution_count": 140,
   "metadata": {},
   "outputs": [
    {
     "data": {
      "text/plain": [
       "7788.43"
      ]
     },
     "execution_count": 140,
     "metadata": {},
     "output_type": "execute_result"
    }
   ],
   "source": [
    "# prediction using Random Forest model\n",
    "predict_price(cat_cols,numeric_cols,rfreg)"
   ]
  },
  {
   "cell_type": "code",
   "execution_count": 141,
   "metadata": {},
   "outputs": [
    {
     "data": {
      "text/plain": [
       "5653.380599975586"
      ]
     },
     "execution_count": 141,
     "metadata": {},
     "output_type": "execute_result"
    }
   ],
   "source": [
    "# prediction using linear regression model\n",
    "predict_price(cat_cols,numeric_cols,linreg)"
   ]
  },
  {
   "cell_type": "code",
   "execution_count": 142,
   "metadata": {},
   "outputs": [
    {
     "data": {
      "text/plain": [
       "5716.303888437113"
      ]
     },
     "execution_count": 142,
     "metadata": {},
     "output_type": "execute_result"
    }
   ],
   "source": [
    "# prediction using ridge regression model\n",
    "predict_price(cat_cols,numeric_cols,ridge)"
   ]
  },
  {
   "cell_type": "code",
   "execution_count": 143,
   "metadata": {},
   "outputs": [
    {
     "data": {
      "text/plain": [
       "6301.4023635632275"
      ]
     },
     "execution_count": 143,
     "metadata": {},
     "output_type": "execute_result"
    }
   ],
   "source": [
    "# prediction using Lass0 regression model\n",
    "predict_price(cat_cols,numeric_cols,lasso)"
   ]
  },
  {
   "cell_type": "code",
   "execution_count": null,
   "metadata": {},
   "outputs": [],
   "source": []
  },
  {
   "cell_type": "code",
   "execution_count": 144,
   "metadata": {},
   "outputs": [],
   "source": [
    "import pickle\n",
    "with open('ridge_car_price_model1.pickle','wb') as f:\n",
    "    pickle.dump(ridge,f)"
   ]
  },
  {
   "cell_type": "code",
   "execution_count": 145,
   "metadata": {},
   "outputs": [],
   "source": [
    "with open('lasso_car_price_model1.pickle','wb') as f:\n",
    "    pickle.dump(lasso,f)\n",
    "\n",
    "with open('rf_car_price_model.pickle1','wb') as f:\n",
    "    pickle.dump(rfreg,f)"
   ]
  },
  {
   "cell_type": "code",
   "execution_count": 10,
   "metadata": {},
   "outputs": [],
   "source": [
    "import json\n",
    "columns = {\n",
    "    'data_columns' : [col for col in cols]\n",
    "}\n",
    "with open(\"columns_final1.json\",\"w\") as f:\n",
    "    f.write(json.dumps(columns))"
   ]
  },
  {
   "cell_type": "code",
   "execution_count": null,
   "metadata": {},
   "outputs": [],
   "source": []
  }
 ],
 "metadata": {
  "accelerator": "TPU",
  "colab": {
   "collapsed_sections": [
    "4-7KB9l7UAEf"
   ],
   "machine_shape": "hm",
   "name": "Used_cars_price_prediction_final.ipynb",
   "provenance": []
  },
  "kernelspec": {
   "display_name": "Python 3",
   "language": "python",
   "name": "python3"
  },
  "language_info": {
   "codemirror_mode": {
    "name": "ipython",
    "version": 3
   },
   "file_extension": ".py",
   "mimetype": "text/x-python",
   "name": "python",
   "nbconvert_exporter": "python",
   "pygments_lexer": "ipython3",
   "version": "3.7.7"
  }
 },
 "nbformat": 4,
 "nbformat_minor": 1
}
